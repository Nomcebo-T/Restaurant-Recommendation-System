{
 "cells": [
  {
   "cell_type": "code",
   "execution_count": 3,
   "id": "3dfe796f-9443-4c05-9c44-f65f2e301a61",
   "metadata": {},
   "outputs": [],
   "source": [
    "#Importing all important libraries\n",
    "import pandas as pd\n",
    "import re\n",
    "import numpy as np\n",
    "import datetime\n",
    "from sklearn.feature_extraction.text import TfidfVectorizer\n",
    "from nltk.corpus import stopwords\n",
    "import nltk\n",
    "import matplotlib.pyplot as plt\n",
    "import seaborn as sns\n",
    "from sklearn.feature_extraction.text import TfidfVectorizer\n",
    "from sklearn.preprocessing import MinMaxScaler\n",
    "from sklearn.neighbors import NearestNeighbors"
   ]
  },
  {
   "cell_type": "code",
   "execution_count": 4,
   "id": "2fe57cff-2aea-4f2e-88ed-7bffea54bc25",
   "metadata": {},
   "outputs": [
    {
     "name": "stdout",
     "output_type": "stream",
     "text": [
      "                                  Name  Category/Cuisine  \\\n",
      "0                     Ground Art Caffe  Café/Coffee Shop   \n",
      "1                         Jason Bakery  Café/Coffee Shop   \n",
      "2  Rosetta Roastery Cafe (Bree Street)  Café/Coffee Shop   \n",
      "3                   Heaven Coffee Shop  Café/Coffee Shop   \n",
      "4                           The Ladder  Café/Coffee Shop   \n",
      "\n",
      "                                       Opening Hours    Price Range  \\\n",
      "0  Monday 7 am–3 pm\\nTuesday 7 am–3 pm\\nWednesday...  R100 - R150pp   \n",
      "1  Tuesday 7 am–3 pm\\nWednesday 7 am–3 pm\\nThursd...  R150 - R200pp   \n",
      "2  Monday 7 am–4 pm\\nTuesday 7 am–4 pm\\nWednesday...   R50 - R100pp   \n",
      "3  Tuesday 7 am–5 pm\\nWednesday 7 am–5 pm\\nThursd...   R50 - R100pp   \n",
      "4  Tuesday 7 am–4 pm\\nWednesday 7 am–4 pm\\nThursd...  R100 - R150pp   \n",
      "\n",
      "        Ratings/Reviews                                            Address  \\\n",
      "0   4.8/5 (405 reviews)       160 Strand St, De Waterkant, Cape Town, 8001   \n",
      "1  4.5/5 (2000 reviews)           83 Main Rd, Green Point, Cape Town, 8005   \n",
      "2   4.7/5 (704 reviews)                  101 Bree St, CBD, Cape Town, 8001   \n",
      "3     4.7/5 (197 views)  38 Burg St, Cape Town City Centre, Cape Town, ...   \n",
      "4   4.6/5 (489 reviews)  136 Bree St, Cape Town City Centre, Cape Town,...   \n",
      "\n",
      "  Contact Number                                           Ambiance  \\\n",
      "0      214181331  Ground Art Caffe is a casual cafe in De Waterk...   \n",
      "1      214330538  Jason Bakery in Cape Town is a beloved spot th...   \n",
      "2      214474099  Rosetta Roastery Café on Bree Street in Cape T...   \n",
      "3      728842057  Heaven Coffee Shop, nestled inside the stunnin...   \n",
      "4      824511572  The Ladder on Bree Street is a trendy, bustlin...   \n",
      "\n",
      "   Reservations                                          Image Url  \\\n",
      "0  Not Required  <blockquote class=\"instagram-media\" data-instg...   \n",
      "1  Not Required  <blockquote class=\"instagram-media\" data-instg...   \n",
      "2  Not Required  <blockquote class=\"instagram-media\" data-instg...   \n",
      "3  Not Required  <blockquote class=\"instagram-media\" data-instg...   \n",
      "4  Not Required  <blockquote class=\"instagram-media\" data-instg...   \n",
      "\n",
      "                                          Image_Url2  \n",
      "0  <blockquote class=\"instagram-media\" data-instg...  \n",
      "1  <blockquote class=\"instagram-media\" data-instg...  \n",
      "2  <blockquote class=\"instagram-media\" data-instg...  \n",
      "3  <blockquote class=\"instagram-media\" data-instg...  \n",
      "4  <blockquote class=\"instagram-media\" data-instg...  \n"
     ]
    }
   ],
   "source": [
    "df = pd.read_excel('Restaurant dataset (Cape Town).xlsx')\n",
    "print(df.head())"
   ]
  },
  {
   "cell_type": "code",
   "execution_count": 5,
   "id": "3a2b692f-e00b-4f04-96b6-c1e77876f85a",
   "metadata": {},
   "outputs": [
    {
     "name": "stdout",
     "output_type": "stream",
     "text": [
      "Name                0\n",
      "Category/Cuisine    0\n",
      "Opening Hours       0\n",
      "Price Range         1\n",
      "Ratings/Reviews     0\n",
      "Address             0\n",
      "Contact Number      1\n",
      "Ambiance            0\n",
      "Reservations        0\n",
      "Image Url           1\n",
      "Image_Url2          1\n",
      "dtype: int64\n"
     ]
    }
   ],
   "source": [
    "#Checking for missing values\n",
    "print(df.isnull().sum())"
   ]
  },
  {
   "cell_type": "code",
   "execution_count": 6,
   "id": "dd8fddc8-5986-478b-8e86-f8d850292996",
   "metadata": {},
   "outputs": [
    {
     "name": "stdout",
     "output_type": "stream",
     "text": [
      "                      Name  Category/Cuisine  \\\n",
      "4               The Ladder  Café/Coffee Shop   \n",
      "5             CAFE CHIFFON  Café/Coffee Shop   \n",
      "6               The Ladder  Café/Coffee Shop   \n",
      "7             CAFE CHIFFON  Café/Coffee Shop   \n",
      "8               The Ladder  Café/Coffee Shop   \n",
      "9             CAFE CHIFFON  Café/Coffee Shop   \n",
      "10              The Ladder  Café/Coffee Shop   \n",
      "11            CAFE CHIFFON  Café/Coffee Shop   \n",
      "12            Naked coffee  Café/Coffee Shop   \n",
      "13             Halō Coffee  Café/Coffee Shop   \n",
      "14            Naked coffee  Café/Coffee Shop   \n",
      "15             Halō Coffee  Café/Coffee Shop   \n",
      "16            Naked coffee  Café/Coffee Shop   \n",
      "17             Halō Coffee  Café/Coffee Shop   \n",
      "18            Naked coffee  Café/Coffee Shop   \n",
      "19             Halō Coffee  Café/Coffee Shop   \n",
      "20            Naked coffee  Café/Coffee Shop   \n",
      "21             Halō Coffee  Café/Coffee Shop   \n",
      "22      Belly of the beast       Fine Dining   \n",
      "23          Fyn Restaurant       Fine Dining   \n",
      "24      Belly of the beast       Fine Dining   \n",
      "25          Fyn Restaurant       Fine Dining   \n",
      "26      Belly of the beast       Fine Dining   \n",
      "27          Fyn Restaurant       Fine Dining   \n",
      "35                 Galjoen       Fine Dining   \n",
      "39   Il Leone Mastrantonio       Fine Dining   \n",
      "61                 Galjoen              Thai   \n",
      "106  Il Leone Mastrantonio           Italian   \n",
      "\n",
      "                                         Opening Hours    Price Range  \\\n",
      "4    Tuesday 7 am–4 pm\\nWednesday 7 am–4 pm\\nThursd...  R100 - R150pp   \n",
      "5    Tuesday 7:30 am–5:30 pm\\nWednesday 7:30 am–5:3...   R50 - R120pp   \n",
      "6    Tuesday 7 am–4 pm\\nWednesday 7 am–4 pm\\nThursd...  R100 - R150pp   \n",
      "7    Tuesday 7:30 am–5:30 pm\\nWednesday 7:30 am–5:3...   R50 - R120pp   \n",
      "8    Tuesday 7 am–4 pm\\nWednesday 7 am–4 pm\\nThursd...  R100 - R150pp   \n",
      "9    Tuesday 7:30 am–5:30 pm\\nWednesday 7:30 am–5:3...   R50 - R120pp   \n",
      "10   Tuesday 7 am–4 pm\\nWednesday 7 am–4 pm\\nThursd...  R100 - R150pp   \n",
      "11   Tuesday 7:30 am–5:30 pm\\nWednesday 7:30 am–5:3...   R50 - R120pp   \n",
      "12   Tuesday 7 am–5:30 pm\\nWednesday 7 am–5:30 pm\\n...  R150 - R200pp   \n",
      "13   Monday 6:30 am–4 pm\\nTuesday 6:30 am–4 pm\\nWed...      R 100–150   \n",
      "14   Tuesday 7 am–5:30 pm\\nWednesday 7 am–5:30 pm\\n...  R150 - R200pp   \n",
      "15   Monday 6:30 am–4 pm\\nTuesday 6:30 am–4 pm\\nWed...      R 100–150   \n",
      "16   Tuesday 7 am–5:30 pm\\nWednesday 7 am–5:30 pm\\n...  R150 - R200pp   \n",
      "17   Monday 6:30 am–4 pm\\nTuesday 6:30 am–4 pm\\nWed...      R 100–150   \n",
      "18   Tuesday 7 am–5:30 pm\\nWednesday 7 am–5:30 pm\\n...  R150 - R200pp   \n",
      "19   Monday 6:30 am–4 pm\\nTuesday 6:30 am–4 pm\\nWed...      R 100–150   \n",
      "20   Tuesday 7 am–5:30 pm\\nWednesday 7 am–5:30 pm\\n...  R150 - R200pp   \n",
      "21   Monday 6:30 am–4 pm\\nTuesday 6:30 am–4 pm\\nWed...      R 100–150   \n",
      "22   Friday 12–3 pm, 6:30–10 pm\\nSaturday 12–3 pm, ...        R500+pp   \n",
      "23   Friday 12–2 pm, 6–10 pm\\nSaturday 12–2 pm, 6–1...        R500+pp   \n",
      "24   Friday 12–3 pm, 6:30–10 pm\\nSaturday 12–3 pm, ...        R500+pp   \n",
      "25   Friday 12–2 pm, 6–10 pm\\nSaturday 12–2 pm, 6–1...        R500+pp   \n",
      "26   Friday 12–3 pm, 6:30–10 pm\\nSaturday 12–3 pm, ...        R500+pp   \n",
      "27   Friday 12–2 pm, 6–10 pm\\nSaturday 12–2 pm, 6–1...        R500+pp   \n",
      "35   Friday 12–3 pm, 6–10 pm\\nSaturday 12–3 pm, 6–1...        R500+pp   \n",
      "39   Friday 12–3:30 pm, 6–10 pm\\nSaturday 12–3:30 p...        R500+pp   \n",
      "61   Sunday Closed\\nMonday 18:00pm - 22:00pm\\nTuesd...        R500+pp   \n",
      "106  Tuesday : (12–3:30 pm, 6–10 pm)\\nWednesday :(1...  R250 - R350pp   \n",
      "\n",
      "          Ratings/Reviews                                            Address  \\\n",
      "4     4.6/5 (489 reviews)  136 Bree St, Cape Town City Centre, Cape Town,...   \n",
      "5     4.6/5 (252 reviews)  SHOGF007, Old Cape Quarter, 72 Waterkant St, G...   \n",
      "6     4.6/5 (489 reviews)  136 Bree St, Cape Town City Centre, Cape Town,...   \n",
      "7     4.6/5 (252 reviews)  SHOGF007, Old Cape Quarter, 72 Waterkant St, G...   \n",
      "8     4.6/5 (489 reviews)  136 Bree St, Cape Town City Centre, Cape Town,...   \n",
      "9     4.6/5 (252 reviews)  SHOGF007, Old Cape Quarter, 72 Waterkant St, G...   \n",
      "10    4.6/5 (489 reviews)  136 Bree St, Cape Town City Centre, Cape Town,...   \n",
      "11    4.6/5 (252 reviews)  SHOGF007, Old Cape Quarter, 72 Waterkant St, G...   \n",
      "12    4.5/5 (443 reviews)          2 Wisbeach Rd, Sea Point, Cape Town, 8060   \n",
      "13     5.0/5 (45 reviews)   In the foyer of, 117 Strand St, Cape Town Cit...   \n",
      "14    4.5/5 (443 reviews)          2 Wisbeach Rd, Sea Point, Cape Town, 8060   \n",
      "15     5.0/5 (45 reviews)   In the foyer of, 117 Strand St, Cape Town Cit...   \n",
      "16    4.5/5 (443 reviews)          2 Wisbeach Rd, Sea Point, Cape Town, 8060   \n",
      "17     5.0/5 (45 reviews)   In the foyer of, 117 Strand St, Cape Town Cit...   \n",
      "18    4.5/5 (443 reviews)          2 Wisbeach Rd, Sea Point, Cape Town, 8060   \n",
      "19     5.0/5 (45 reviews)   In the foyer of, 117 Strand St, Cape Town Cit...   \n",
      "20    4.5/5 (443 reviews)          2 Wisbeach Rd, Sea Point, Cape Town, 8060   \n",
      "21     5.0/5 (45 reviews)   In the foyer of, 117 Strand St, Cape Town Cit...   \n",
      "22   4.8/5 (1000 reviews)  110 Harrington St, Cape Town City Centre, Cape...   \n",
      "23    4.7/5 (958 reviews)  5th Floor, Speakers Corner, 37 Parliament St, ...   \n",
      "24   4.8/5 (1000 reviews)  110 Harrington St, Cape Town City Centre, Cape...   \n",
      "25    4.7/5 (958 reviews)  5th Floor, Speakers Corner, 37 Parliament St, ...   \n",
      "26   4.8/5 (1000 reviews)  110 Harrington St, Cape Town City Centre, Cape...   \n",
      "27    4.7/5 (958 reviews)  5th Floor, Speakers Corner, 37 Parliament St, ...   \n",
      "35     4.8/5 (97 reviews)    99 Harrington St, District Six, Cape Town, 7925   \n",
      "39   4.5/5 (1300 reviews)  Corner of Prestwich, 22 Cobern St, Green Point...   \n",
      "61     4.8/5 (95 reviews)  120 Bree St, Cape Town City Centre, Cape Town,...   \n",
      "106   4.6/5 (500 reviews)                          22 Cobern St, Green Point   \n",
      "\n",
      "    Contact Number                                           Ambiance  \\\n",
      "4        824511572  The Ladder on Bree Street is a trendy, bustlin...   \n",
      "5        680355552  Nestled in the vibrant Old Cape Quarter, Café ...   \n",
      "6        824511572  The Ladder on Bree Street is a trendy, bustlin...   \n",
      "7        680355552  Nestled in the vibrant Old Cape Quarter, Café ...   \n",
      "8        824511572  The Ladder on Bree Street is a trendy, bustlin...   \n",
      "9        680355552  Nestled in the vibrant Old Cape Quarter, Café ...   \n",
      "10       824511572  The Ladder on Bree Street is a trendy, bustlin...   \n",
      "11       680355552  Nestled in the vibrant Old Cape Quarter, Café ...   \n",
      "12       214331648  Naked Coffee in Sea Point is a trendy and vibr...   \n",
      "13       832973971  Halō Coffee, located in the heart of Cape Town...   \n",
      "14       214331648  Naked Coffee in Sea Point is a trendy and vibr...   \n",
      "15       832973971  Halō Coffee, located in the heart of Cape Town...   \n",
      "16       214331648  Naked Coffee in Sea Point is a trendy and vibr...   \n",
      "17       832973971  Halō Coffee, located in the heart of Cape Town...   \n",
      "18       214331648  Naked Coffee in Sea Point is a trendy and vibr...   \n",
      "19       832973971  Halō Coffee, located in the heart of Cape Town...   \n",
      "20       214331648  Naked Coffee in Sea Point is a trendy and vibr...   \n",
      "21       832973971  Halō Coffee, located in the heart of Cape Town...   \n",
      "22       762205458  Belly of the Beast is a fine dining experience...   \n",
      "23       212862733  Fyn Restaurant, located in Cape Town's City Ce...   \n",
      "24       762205458  Belly of the Beast is a fine dining experience...   \n",
      "25       212862733  Fyn Restaurant, located in Cape Town's City Ce...   \n",
      "26       762205458  Belly of the Beast is a fine dining experience...   \n",
      "27       212862733  Fyn Restaurant, located in Cape Town's City Ce...   \n",
      "35       790930559  Located in District Six, Galjoen is a contempo...   \n",
      "39       214210071  This Green Point favorite delivers an authenti...   \n",
      "61       790930559  A high-end, exclusive dining experience in Dis...   \n",
      "106      214210071  Elegant and intimate with a refined Italian ch...   \n",
      "\n",
      "                                          Reservations  \\\n",
      "4                                         Not Required   \n",
      "5                                         Not Required   \n",
      "6                                         Not Required   \n",
      "7                                         Not Required   \n",
      "8                                         Not Required   \n",
      "9                                         Not Required   \n",
      "10                                        Not Required   \n",
      "11                                        Not Required   \n",
      "12                                        Not Required   \n",
      "13                                        Not Required   \n",
      "14                                        Not Required   \n",
      "15                                        Not Required   \n",
      "16                                        Not Required   \n",
      "17                                        Not Required   \n",
      "18                                        Not Required   \n",
      "19                                        Not Required   \n",
      "20                                        Not Required   \n",
      "21                                        Not Required   \n",
      "22           https://bellyofthebeast.co.za/collections   \n",
      "23              https://fynrestaurant.com/reservation/   \n",
      "24           https://bellyofthebeast.co.za/collections   \n",
      "25              https://fynrestaurant.com/reservation/   \n",
      "26           https://bellyofthebeast.co.za/collections   \n",
      "27              https://fynrestaurant.com/reservation/   \n",
      "35   https://www.galjoencpt.co.za/collections/book-...   \n",
      "39   https://www.diningcity.co.za/en/restaurants/93...   \n",
      "61   https://www.galjoencpt.co.za/collections/book-...   \n",
      "106                                          214210071   \n",
      "\n",
      "                                             Image Url  \\\n",
      "4    <blockquote class=\"instagram-media\" data-instg...   \n",
      "5    <blockquote class=\"instagram-media\" data-instg...   \n",
      "6    <blockquote class=\"instagram-media\" data-instg...   \n",
      "7    <blockquote class=\"instagram-media\" data-instg...   \n",
      "8    <blockquote class=\"instagram-media\" data-instg...   \n",
      "9    <blockquote class=\"instagram-media\" data-instg...   \n",
      "10   <blockquote class=\"instagram-media\" data-instg...   \n",
      "11   <blockquote class=\"instagram-media\" data-instg...   \n",
      "12   <blockquote class=\"instagram-media\" data-instg...   \n",
      "13   <blockquote class=\"instagram-media\" data-instg...   \n",
      "14   <blockquote class=\"instagram-media\" data-instg...   \n",
      "15   <blockquote class=\"instagram-media\" data-instg...   \n",
      "16   <blockquote class=\"instagram-media\" data-instg...   \n",
      "17   <blockquote class=\"instagram-media\" data-instg...   \n",
      "18   <blockquote class=\"instagram-media\" data-instg...   \n",
      "19   <blockquote class=\"instagram-media\" data-instg...   \n",
      "20   <blockquote class=\"instagram-media\" data-instg...   \n",
      "21   <blockquote class=\"instagram-media\" data-instg...   \n",
      "22   <blockquote class=\"instagram-media\" data-instg...   \n",
      "23   <blockquote class=\"instagram-media\" data-instg...   \n",
      "24   <blockquote class=\"instagram-media\" data-instg...   \n",
      "25   <blockquote class=\"instagram-media\" data-instg...   \n",
      "26   <blockquote class=\"instagram-media\" data-instg...   \n",
      "27   <blockquote class=\"instagram-media\" data-instg...   \n",
      "35   <blockquote class=\"instagram-media\" data-instg...   \n",
      "39   <blockquote class=\"instagram-media\" data-instg...   \n",
      "61   <blockquote class=\"instagram-media\" data-instg...   \n",
      "106  <blockquote class=\"instagram-media\" data-instg...   \n",
      "\n",
      "                                            Image_Url2  \n",
      "4    <blockquote class=\"instagram-media\" data-instg...  \n",
      "5    <blockquote class=\"instagram-media\" data-instg...  \n",
      "6    <blockquote class=\"instagram-media\" data-instg...  \n",
      "7    <blockquote class=\"instagram-media\" data-instg...  \n",
      "8    <blockquote class=\"instagram-media\" data-instg...  \n",
      "9    <blockquote class=\"instagram-media\" data-instg...  \n",
      "10   <blockquote class=\"instagram-media\" data-instg...  \n",
      "11   <blockquote class=\"instagram-media\" data-instg...  \n",
      "12   <blockquote class=\"instagram-media\" data-instg...  \n",
      "13   <blockquote class=\"instagram-media\" data-instg...  \n",
      "14   <blockquote class=\"instagram-media\" data-instg...  \n",
      "15   <blockquote class=\"instagram-media\" data-instg...  \n",
      "16   <blockquote class=\"instagram-media\" data-instg...  \n",
      "17   <blockquote class=\"instagram-media\" data-instg...  \n",
      "18   <blockquote class=\"instagram-media\" data-instg...  \n",
      "19   <blockquote class=\"instagram-media\" data-instg...  \n",
      "20   <blockquote class=\"instagram-media\" data-instg...  \n",
      "21   <blockquote class=\"instagram-media\" data-instg...  \n",
      "22   <blockquote class=\"instagram-media\" data-instg...  \n",
      "23   <blockquote class=\"instagram-media\" data-instg...  \n",
      "24   <blockquote class=\"instagram-media\" data-instg...  \n",
      "25   <blockquote class=\"instagram-media\" data-instg...  \n",
      "26   <blockquote class=\"instagram-media\" data-instg...  \n",
      "27   <blockquote class=\"instagram-media\" data-instg...  \n",
      "35   <blockquote class=\"instagram-media\" data-instg...  \n",
      "39   <blockquote class=\"instagram-media\" data-instg...  \n",
      "61   <blockquote class=\"instagram-media\" data-instg...  \n",
      "106  <blockquote class=\"instagram-media\" data-instg...  \n"
     ]
    }
   ],
   "source": [
    "#Checking for duplicated entries in the restaurant name column to ensure there are no duplicates\n",
    "duplicate_restaurant_names = df[df['Name'].duplicated(keep=False)]\n",
    "print(duplicate_restaurant_names)"
   ]
  },
  {
   "cell_type": "code",
   "execution_count": 7,
   "id": "8f710a59-a94a-47f1-bf78-ca449bd1ea65",
   "metadata": {},
   "outputs": [
    {
     "name": "stdout",
     "output_type": "stream",
     "text": [
      "Empty DataFrame\n",
      "Columns: [Name, Category/Cuisine, Opening Hours, Price Range, Ratings/Reviews, Address, Contact Number, Ambiance, Reservations, Image Url, Image_Url2]\n",
      "Index: []\n"
     ]
    }
   ],
   "source": [
    "#Dropping duplicates \n",
    "df = df.drop_duplicates(subset=['Name', 'Category/Cuisine'], keep='first')\n",
    "df = df.drop_duplicates(subset=['Name'], keep='first')  \n",
    "#Checking for duplicated entries in the restaurant name column to ensure there are no duplicates\n",
    "duplicate_restaurant_names = df[df['Name'].duplicated(keep=False)]\n",
    "print(duplicate_restaurant_names)"
   ]
  },
  {
   "cell_type": "code",
   "execution_count": 8,
   "id": "a64dc7cb-048a-4a18-8d1d-9ea7e36ae300",
   "metadata": {},
   "outputs": [
    {
     "name": "stdout",
     "output_type": "stream",
     "text": [
      "0                         Ground Art Caffe\n",
      "1                             Jason Bakery\n",
      "2      Rosetta Roastery Cafe (Bree Street)\n",
      "3                       Heaven Coffee Shop\n",
      "4                               The Ladder\n",
      "                      ...                 \n",
      "107           Posticino Italian Restaurant\n",
      "108                           The Foodbarn\n",
      "109                              Aubergine\n",
      "110              Chefs Warehouse at Maison\n",
      "111                      La Petite Colombe\n",
      "Name: Restaurant Name, Length: 92, dtype: object\n"
     ]
    }
   ],
   "source": [
    "df.rename(columns={'Name': 'Restaurant Name'}, inplace=True)\n",
    "print(df['Restaurant Name'])"
   ]
  },
  {
   "cell_type": "code",
   "execution_count": 9,
   "id": "8952f92a-fb71-4274-9ba7-ecb292d6ed3c",
   "metadata": {},
   "outputs": [
    {
     "name": "stdout",
     "output_type": "stream",
     "text": [
      "0       4.8/5 (405 reviews)\n",
      "1      4.5/5 (2000 reviews)\n",
      "2       4.7/5 (704 reviews)\n",
      "3         4.7/5 (197 views)\n",
      "4       4.6/5 (489 reviews)\n",
      "               ...         \n",
      "107    4.4/5 (2007 reviews)\n",
      "108    4.6/5 (1179 reviews)\n",
      "109     4.5/5 (495 reviews)\n",
      "110     4.5/5 (706 reviews)\n",
      "111     4.8/5 (993 reviews)\n",
      "Name: Ratings, Length: 92, dtype: object\n"
     ]
    }
   ],
   "source": [
    "df.rename(columns={'Ratings/Reviews': 'Ratings'}, inplace=True)\n",
    "print(df['Ratings'])"
   ]
  },
  {
   "cell_type": "code",
   "execution_count": 10,
   "id": "b091dc8e-d7a9-436e-b459-82604cfa1907",
   "metadata": {},
   "outputs": [
    {
     "data": {
      "text/html": [
       "<div>\n",
       "<style scoped>\n",
       "    .dataframe tbody tr th:only-of-type {\n",
       "        vertical-align: middle;\n",
       "    }\n",
       "\n",
       "    .dataframe tbody tr th {\n",
       "        vertical-align: top;\n",
       "    }\n",
       "\n",
       "    .dataframe thead th {\n",
       "        text-align: right;\n",
       "    }\n",
       "</style>\n",
       "<table border=\"1\" class=\"dataframe\">\n",
       "  <thead>\n",
       "    <tr style=\"text-align: right;\">\n",
       "      <th></th>\n",
       "      <th>Restaurant Name</th>\n",
       "      <th>Category/Cuisine</th>\n",
       "      <th>Opening Hours</th>\n",
       "      <th>Price Range</th>\n",
       "      <th>Address</th>\n",
       "      <th>Contact Number</th>\n",
       "      <th>Ambiance</th>\n",
       "      <th>Reservations</th>\n",
       "      <th>Image Url</th>\n",
       "      <th>Image_Url2</th>\n",
       "      <th>Rating_Value</th>\n",
       "      <th>Review_Count</th>\n",
       "    </tr>\n",
       "  </thead>\n",
       "  <tbody>\n",
       "    <tr>\n",
       "      <th>0</th>\n",
       "      <td>Ground Art Caffe</td>\n",
       "      <td>Café/Coffee Shop</td>\n",
       "      <td>Monday 7 am–3 pm\\nTuesday 7 am–3 pm\\nWednesday...</td>\n",
       "      <td>R100 - R150pp</td>\n",
       "      <td>160 Strand St, De Waterkant, Cape Town, 8001</td>\n",
       "      <td>214181331</td>\n",
       "      <td>Ground Art Caffe is a casual cafe in De Waterk...</td>\n",
       "      <td>Not Required</td>\n",
       "      <td>&lt;blockquote class=\"instagram-media\" data-instg...</td>\n",
       "      <td>&lt;blockquote class=\"instagram-media\" data-instg...</td>\n",
       "      <td>4.8</td>\n",
       "      <td>405.0</td>\n",
       "    </tr>\n",
       "    <tr>\n",
       "      <th>1</th>\n",
       "      <td>Jason Bakery</td>\n",
       "      <td>Café/Coffee Shop</td>\n",
       "      <td>Tuesday 7 am–3 pm\\nWednesday 7 am–3 pm\\nThursd...</td>\n",
       "      <td>R150 - R200pp</td>\n",
       "      <td>83 Main Rd, Green Point, Cape Town, 8005</td>\n",
       "      <td>214330538</td>\n",
       "      <td>Jason Bakery in Cape Town is a beloved spot th...</td>\n",
       "      <td>Not Required</td>\n",
       "      <td>&lt;blockquote class=\"instagram-media\" data-instg...</td>\n",
       "      <td>&lt;blockquote class=\"instagram-media\" data-instg...</td>\n",
       "      <td>4.5</td>\n",
       "      <td>2000.0</td>\n",
       "    </tr>\n",
       "    <tr>\n",
       "      <th>2</th>\n",
       "      <td>Rosetta Roastery Cafe (Bree Street)</td>\n",
       "      <td>Café/Coffee Shop</td>\n",
       "      <td>Monday 7 am–4 pm\\nTuesday 7 am–4 pm\\nWednesday...</td>\n",
       "      <td>R50 - R100pp</td>\n",
       "      <td>101 Bree St, CBD, Cape Town, 8001</td>\n",
       "      <td>214474099</td>\n",
       "      <td>Rosetta Roastery Café on Bree Street in Cape T...</td>\n",
       "      <td>Not Required</td>\n",
       "      <td>&lt;blockquote class=\"instagram-media\" data-instg...</td>\n",
       "      <td>&lt;blockquote class=\"instagram-media\" data-instg...</td>\n",
       "      <td>4.7</td>\n",
       "      <td>704.0</td>\n",
       "    </tr>\n",
       "    <tr>\n",
       "      <th>3</th>\n",
       "      <td>Heaven Coffee Shop</td>\n",
       "      <td>Café/Coffee Shop</td>\n",
       "      <td>Tuesday 7 am–5 pm\\nWednesday 7 am–5 pm\\nThursd...</td>\n",
       "      <td>R50 - R100pp</td>\n",
       "      <td>38 Burg St, Cape Town City Centre, Cape Town, ...</td>\n",
       "      <td>728842057</td>\n",
       "      <td>Heaven Coffee Shop, nestled inside the stunnin...</td>\n",
       "      <td>Not Required</td>\n",
       "      <td>&lt;blockquote class=\"instagram-media\" data-instg...</td>\n",
       "      <td>&lt;blockquote class=\"instagram-media\" data-instg...</td>\n",
       "      <td>4.7</td>\n",
       "      <td>NaN</td>\n",
       "    </tr>\n",
       "    <tr>\n",
       "      <th>4</th>\n",
       "      <td>The Ladder</td>\n",
       "      <td>Café/Coffee Shop</td>\n",
       "      <td>Tuesday 7 am–4 pm\\nWednesday 7 am–4 pm\\nThursd...</td>\n",
       "      <td>R100 - R150pp</td>\n",
       "      <td>136 Bree St, Cape Town City Centre, Cape Town,...</td>\n",
       "      <td>824511572</td>\n",
       "      <td>The Ladder on Bree Street is a trendy, bustlin...</td>\n",
       "      <td>Not Required</td>\n",
       "      <td>&lt;blockquote class=\"instagram-media\" data-instg...</td>\n",
       "      <td>&lt;blockquote class=\"instagram-media\" data-instg...</td>\n",
       "      <td>4.6</td>\n",
       "      <td>489.0</td>\n",
       "    </tr>\n",
       "  </tbody>\n",
       "</table>\n",
       "</div>"
      ],
      "text/plain": [
       "                       Restaurant Name  Category/Cuisine  \\\n",
       "0                     Ground Art Caffe  Café/Coffee Shop   \n",
       "1                         Jason Bakery  Café/Coffee Shop   \n",
       "2  Rosetta Roastery Cafe (Bree Street)  Café/Coffee Shop   \n",
       "3                   Heaven Coffee Shop  Café/Coffee Shop   \n",
       "4                           The Ladder  Café/Coffee Shop   \n",
       "\n",
       "                                       Opening Hours    Price Range  \\\n",
       "0  Monday 7 am–3 pm\\nTuesday 7 am–3 pm\\nWednesday...  R100 - R150pp   \n",
       "1  Tuesday 7 am–3 pm\\nWednesday 7 am–3 pm\\nThursd...  R150 - R200pp   \n",
       "2  Monday 7 am–4 pm\\nTuesday 7 am–4 pm\\nWednesday...   R50 - R100pp   \n",
       "3  Tuesday 7 am–5 pm\\nWednesday 7 am–5 pm\\nThursd...   R50 - R100pp   \n",
       "4  Tuesday 7 am–4 pm\\nWednesday 7 am–4 pm\\nThursd...  R100 - R150pp   \n",
       "\n",
       "                                             Address Contact Number  \\\n",
       "0       160 Strand St, De Waterkant, Cape Town, 8001      214181331   \n",
       "1           83 Main Rd, Green Point, Cape Town, 8005      214330538   \n",
       "2                  101 Bree St, CBD, Cape Town, 8001      214474099   \n",
       "3  38 Burg St, Cape Town City Centre, Cape Town, ...      728842057   \n",
       "4  136 Bree St, Cape Town City Centre, Cape Town,...      824511572   \n",
       "\n",
       "                                            Ambiance  Reservations  \\\n",
       "0  Ground Art Caffe is a casual cafe in De Waterk...  Not Required   \n",
       "1  Jason Bakery in Cape Town is a beloved spot th...  Not Required   \n",
       "2  Rosetta Roastery Café on Bree Street in Cape T...  Not Required   \n",
       "3  Heaven Coffee Shop, nestled inside the stunnin...  Not Required   \n",
       "4  The Ladder on Bree Street is a trendy, bustlin...  Not Required   \n",
       "\n",
       "                                           Image Url  \\\n",
       "0  <blockquote class=\"instagram-media\" data-instg...   \n",
       "1  <blockquote class=\"instagram-media\" data-instg...   \n",
       "2  <blockquote class=\"instagram-media\" data-instg...   \n",
       "3  <blockquote class=\"instagram-media\" data-instg...   \n",
       "4  <blockquote class=\"instagram-media\" data-instg...   \n",
       "\n",
       "                                          Image_Url2  Rating_Value  \\\n",
       "0  <blockquote class=\"instagram-media\" data-instg...           4.8   \n",
       "1  <blockquote class=\"instagram-media\" data-instg...           4.5   \n",
       "2  <blockquote class=\"instagram-media\" data-instg...           4.7   \n",
       "3  <blockquote class=\"instagram-media\" data-instg...           4.7   \n",
       "4  <blockquote class=\"instagram-media\" data-instg...           4.6   \n",
       "\n",
       "   Review_Count  \n",
       "0         405.0  \n",
       "1        2000.0  \n",
       "2         704.0  \n",
       "3           NaN  \n",
       "4         489.0  "
      ]
     },
     "execution_count": 10,
     "metadata": {},
     "output_type": "execute_result"
    }
   ],
   "source": [
    "#Extracting restaurant rating and number of reviews to create new columns 'Rating_value' and 'Review_count'\n",
    "def extract_rating_reviews(value):\n",
    "    match = re.search(r'(\\d\\.\\d)/5', str(value))  \n",
    "    reviews_match = re.search(r'\\((\\d+) reviews\\)', str(value))  \n",
    "    rating = float(match.group(1)) if match else None\n",
    "    reviews = int(reviews_match.group(1)) if reviews_match else None\n",
    "    return rating, reviews\n",
    "\n",
    "df[['Rating_Value', 'Review_Count']] = df['Ratings'].apply(lambda x: pd.Series(extract_rating_reviews(x)))\n",
    "df.drop(columns=['Ratings'], inplace=True)\n",
    "df.head()"
   ]
  },
  {
   "cell_type": "code",
   "execution_count": 11,
   "id": "d5c57e93-a76a-4b7e-8fd3-c1ac2bb2f032",
   "metadata": {},
   "outputs": [
    {
     "name": "stdout",
     "output_type": "stream",
     "text": [
      "0\n",
      "2\n"
     ]
    }
   ],
   "source": [
    "#Checking for missing values in the 'Rating_Value' and 'Review_Count'column\n",
    "print(df['Rating_Value'].isnull().sum())\n",
    "print(df['Review_Count'].isnull().sum())"
   ]
  },
  {
   "cell_type": "code",
   "execution_count": 12,
   "id": "d69e850b-2091-4c22-adaa-a6ef7364e0d7",
   "metadata": {},
   "outputs": [
    {
     "name": "stdout",
     "output_type": "stream",
     "text": [
      "        Restaurant Name  Category/Cuisine  \\\n",
      "3    Heaven Coffee Shop  Café/Coffee Shop   \n",
      "104         Magica Roma           Italian   \n",
      "\n",
      "                                         Opening Hours    Price Range  \\\n",
      "3    Tuesday 7 am–5 pm\\nWednesday 7 am–5 pm\\nThursd...   R50 - R100pp   \n",
      "104  Tuesday 12–2 pm, 6–9 pm\\nWednesday 12–2 pm, 6–...  R150 - R250pp   \n",
      "\n",
      "                                               Address Contact Number  \\\n",
      "3    38 Burg St, Cape Town City Centre, Cape Town, ...      728842057   \n",
      "104                          Central Square, Pinelands      215311489   \n",
      "\n",
      "                                              Ambiance  Reservations  \\\n",
      "3    Heaven Coffee Shop, nestled inside the stunnin...  Not Required   \n",
      "104  Traditional Italian restaurant with a cozy, in...     215311489   \n",
      "\n",
      "                                             Image Url  \\\n",
      "3    <blockquote class=\"instagram-media\" data-instg...   \n",
      "104  <blockquote class=\"instagram-media\" data-instg...   \n",
      "\n",
      "                                            Image_Url2  Rating_Value  \\\n",
      "3    <blockquote class=\"instagram-media\" data-instg...           4.7   \n",
      "104  <blockquote class=\"instagram-media\" data-instg...           4.6   \n",
      "\n",
      "     Review_Count  \n",
      "3             NaN  \n",
      "104           NaN  \n"
     ]
    }
   ],
   "source": [
    "missing_reviews = df[df['Review_Count'].isnull()]\n",
    "print(missing_reviews)"
   ]
  },
  {
   "cell_type": "code",
   "execution_count": 13,
   "id": "eb10c4b4-0ab7-4fa0-8ccc-248dc40d6f06",
   "metadata": {},
   "outputs": [
    {
     "name": "stdout",
     "output_type": "stream",
     "text": [
      "0\n"
     ]
    }
   ],
   "source": [
    "df.loc[df['Restaurant Name'] == 'Heaven Coffee Shop', 'Review_Count'] = 210\n",
    "df.loc[df['Restaurant Name'] == 'Magica Roma', 'Review_Count'] = 1393\n",
    "print(df['Review_Count'].isnull().sum())"
   ]
  },
  {
   "cell_type": "code",
   "execution_count": 14,
   "id": "46def267-3348-4e91-a71f-12ab9bb47dcf",
   "metadata": {},
   "outputs": [
    {
     "name": "stdout",
     "output_type": "stream",
     "text": [
      "0      0.666667\n",
      "1      0.166667\n",
      "2      0.500000\n",
      "3      0.500000\n",
      "4      0.333333\n",
      "         ...   \n",
      "107    0.000000\n",
      "108    0.333333\n",
      "109    0.166667\n",
      "110    0.166667\n",
      "111    0.666667\n",
      "Name: Rating_Value_Normalized, Length: 92, dtype: float64\n"
     ]
    }
   ],
   "source": [
    "#Normalizing Rating_Value for machine learning model use\n",
    "# Initialize MinMaxScaler\n",
    "scaler = MinMaxScaler()\n",
    "df[\"Rating_Value_Normalized\"] = scaler.fit_transform(df[[\"Rating_Value\"]])\n",
    "print(df['Rating_Value_Normalized'])"
   ]
  },
  {
   "cell_type": "code",
   "execution_count": 15,
   "id": "4e3f1871-b7e7-40cd-8397-3bf11f6bbfd1",
   "metadata": {},
   "outputs": [
    {
     "name": "stdout",
     "output_type": "stream",
     "text": [
      "0       405.0\n",
      "1      2000.0\n",
      "2       704.0\n",
      "3       210.0\n",
      "4       489.0\n",
      "        ...  \n",
      "107    2007.0\n",
      "108    1179.0\n",
      "109     495.0\n",
      "110     706.0\n",
      "111     993.0\n",
      "Name: Review_Count, Length: 92, dtype: float64\n",
      "0      0.119040\n",
      "1      0.636393\n",
      "2      0.216023\n",
      "3      0.055790\n",
      "4      0.146286\n",
      "         ...   \n",
      "107    0.638664\n",
      "108    0.370094\n",
      "109    0.148232\n",
      "110    0.216672\n",
      "111    0.309763\n",
      "Name: Review_Count_Normalized, Length: 92, dtype: float64\n"
     ]
    }
   ],
   "source": [
    "#Normalizing 'Review_Count' for future machine learning model work\n",
    "print(df['Review_Count'])\n",
    "scaler = MinMaxScaler()\n",
    "df[\"Review_Count_Normalized\"] = scaler.fit_transform(df[[\"Review_Count\"]])\n",
    "print(df[\"Review_Count_Normalized\"])"
   ]
  },
  {
   "cell_type": "code",
   "execution_count": 16,
   "id": "eca6ee50-e123-4d3d-80c2-2bb550e6aa4c",
   "metadata": {},
   "outputs": [
    {
     "name": "stdout",
     "output_type": "stream",
     "text": [
      "                       Restaurant Name  Category/Cuisine  \\\n",
      "0                     Ground Art Caffe  Café/Coffee Shop   \n",
      "1                         Jason Bakery  Café/Coffee Shop   \n",
      "2  Rosetta Roastery Cafe (Bree Street)  Café/Coffee Shop   \n",
      "3                   Heaven Coffee Shop  Café/Coffee Shop   \n",
      "4                           The Ladder  Café/Coffee Shop   \n",
      "\n",
      "                                       Opening Hours  \\\n",
      "0  Monday 7 am–3 pm\\nTuesday 7 am–3 pm\\nWednesday...   \n",
      "1  Tuesday 7 am–3 pm\\nWednesday 7 am–3 pm\\nThursd...   \n",
      "2  Monday 7 am–4 pm\\nTuesday 7 am–4 pm\\nWednesday...   \n",
      "3  Tuesday 7 am–5 pm\\nWednesday 7 am–5 pm\\nThursd...   \n",
      "4  Tuesday 7 am–4 pm\\nWednesday 7 am–4 pm\\nThursd...   \n",
      "\n",
      "                                             Address Contact Number  \\\n",
      "0       160 Strand St, De Waterkant, Cape Town, 8001      214181331   \n",
      "1           83 Main Rd, Green Point, Cape Town, 8005      214330538   \n",
      "2                  101 Bree St, CBD, Cape Town, 8001      214474099   \n",
      "3  38 Burg St, Cape Town City Centre, Cape Town, ...      728842057   \n",
      "4  136 Bree St, Cape Town City Centre, Cape Town,...      824511572   \n",
      "\n",
      "                                            Ambiance  Reservations  \\\n",
      "0  Ground Art Caffe is a casual cafe in De Waterk...  Not Required   \n",
      "1  Jason Bakery in Cape Town is a beloved spot th...  Not Required   \n",
      "2  Rosetta Roastery Café on Bree Street in Cape T...  Not Required   \n",
      "3  Heaven Coffee Shop, nestled inside the stunnin...  Not Required   \n",
      "4  The Ladder on Bree Street is a trendy, bustlin...  Not Required   \n",
      "\n",
      "                                           Image Url  \\\n",
      "0  <blockquote class=\"instagram-media\" data-instg...   \n",
      "1  <blockquote class=\"instagram-media\" data-instg...   \n",
      "2  <blockquote class=\"instagram-media\" data-instg...   \n",
      "3  <blockquote class=\"instagram-media\" data-instg...   \n",
      "4  <blockquote class=\"instagram-media\" data-instg...   \n",
      "\n",
      "                                          Image_Url2  Rating_Value  \\\n",
      "0  <blockquote class=\"instagram-media\" data-instg...           4.8   \n",
      "1  <blockquote class=\"instagram-media\" data-instg...           4.5   \n",
      "2  <blockquote class=\"instagram-media\" data-instg...           4.7   \n",
      "3  <blockquote class=\"instagram-media\" data-instg...           4.7   \n",
      "4  <blockquote class=\"instagram-media\" data-instg...           4.6   \n",
      "\n",
      "   Review_Count  Rating_Value_Normalized  Review_Count_Normalized  \\\n",
      "0         405.0                 0.666667                 0.119040   \n",
      "1        2000.0                 0.166667                 0.636393   \n",
      "2         704.0                 0.500000                 0.216023   \n",
      "3         210.0                 0.500000                 0.055790   \n",
      "4         489.0                 0.333333                 0.146286   \n",
      "\n",
      "   Avg_Min_Price  Avg_Max_Price  \n",
      "0          100.0          150.0  \n",
      "1          150.0          200.0  \n",
      "2           50.0          100.0  \n",
      "3           50.0          100.0  \n",
      "4          100.0          150.0  \n"
     ]
    }
   ],
   "source": [
    "#Feature Engineering: Extracting minimum price range per person and max price range per person from 'Price Range' column\n",
    "def extract_price_range(value):\n",
    "    match = re.findall(r'\\d+', str(value))  \n",
    "\n",
    "    if \"R\" in str(value) and \"+\" in str(value):  \n",
    "        return int(match[0]), 1000  \n",
    "\n",
    "    elif len(match) == 2: \n",
    "        return int(match[0]), int(match[1])  \n",
    "\n",
    "    elif len(match) == 1:  \n",
    "        return int(match[0]), int(match[0])  \n",
    "\n",
    "    else:\n",
    "        return None, None  \n",
    "\n",
    "df[['Avg_Min_Price', 'Avg_Max_Price']] = df['Price Range'].apply(lambda x: pd.Series(extract_price_range(x)))\n",
    "df.drop(columns=['Price Range'], inplace=True)\n",
    "print(df.head())"
   ]
  },
  {
   "cell_type": "code",
   "execution_count": 17,
   "id": "2c8f6c08-b683-48f7-9d74-3bc1197c3118",
   "metadata": {},
   "outputs": [
    {
     "name": "stdout",
     "output_type": "stream",
     "text": [
      "1\n",
      "1\n"
     ]
    }
   ],
   "source": [
    "print(df['Avg_Min_Price'].isnull().sum())\n",
    "print(df['Avg_Max_Price'].isnull().sum())"
   ]
  },
  {
   "cell_type": "code",
   "execution_count": 18,
   "id": "3b9a33cd-df3a-4b35-9b15-488090028a99",
   "metadata": {},
   "outputs": [],
   "source": [
    "df = df.dropna(subset=['Avg_Max_Price'])"
   ]
  },
  {
   "cell_type": "code",
   "execution_count": 19,
   "id": "3d5e52fc-4db5-4588-b9f0-d16795a3ffa6",
   "metadata": {},
   "outputs": [
    {
     "name": "stdout",
     "output_type": "stream",
     "text": [
      "0\n",
      "0\n"
     ]
    }
   ],
   "source": [
    "print(df['Avg_Min_Price'].isnull().sum())\n",
    "print(df['Avg_Max_Price'].isnull().sum())"
   ]
  },
  {
   "cell_type": "code",
   "execution_count": 20,
   "id": "45cdaa37-e3fc-4e11-8d95-54d215dd9b4d",
   "metadata": {},
   "outputs": [
    {
     "name": "stdout",
     "output_type": "stream",
     "text": [
      "0      0.066667\n",
      "1      0.133333\n",
      "2      0.000000\n",
      "3      0.000000\n",
      "4      0.066667\n",
      "         ...   \n",
      "107    0.093333\n",
      "108    0.200000\n",
      "109    0.600000\n",
      "110    0.600000\n",
      "111    1.000000\n",
      "Name: Avg_Min_Price_Normalized, Length: 91, dtype: float64\n",
      "0      0.093960\n",
      "1      0.127517\n",
      "2      0.060403\n",
      "3      0.060403\n",
      "4      0.093960\n",
      "         ...   \n",
      "107    0.194631\n",
      "108    0.194631\n",
      "109    0.664430\n",
      "110    0.664430\n",
      "111    0.798658\n",
      "Name: Avg_Max_Price_Normalized, Length: 91, dtype: float64\n"
     ]
    }
   ],
   "source": [
    "#Normalizing the 'Avg_Min_Price' and 'Avg_Max_Price' for future machine learning model work\n",
    "scaler = MinMaxScaler()\n",
    "df[\"Avg_Min_Price_Normalized\"] = scaler.fit_transform(df[[\"Avg_Min_Price\"]])\n",
    "print(df['Avg_Min_Price_Normalized'])\n",
    "df[\"Avg_Max_Price_Normalized\"] = scaler.fit_transform(df[[\"Avg_Max_Price\"]])\n",
    "print(df['Avg_Max_Price_Normalized'])"
   ]
  },
  {
   "cell_type": "code",
   "execution_count": 21,
   "id": "12ecff36-a3b7-4a59-b4bb-44e973604833",
   "metadata": {},
   "outputs": [
    {
     "name": "stdout",
     "output_type": "stream",
     "text": [
      "0      0\n",
      "1      0\n",
      "2      0\n",
      "3      0\n",
      "4      0\n",
      "      ..\n",
      "107    1\n",
      "108    1\n",
      "109    1\n",
      "110    1\n",
      "111    1\n",
      "Name: ReservationRequired, Length: 91, dtype: int64\n"
     ]
    }
   ],
   "source": [
    "#Applying One-Hot Encoding to 'Reservations' column to ensure its effective use in machine learning model\n",
    "def is_reservation_required(reservation):\n",
    "    reservation = str(reservation) if not isinstance(reservation, str) else reservation\n",
    "    \n",
    "    if 'http' in reservation or reservation.isnumeric() or '@' in reservation:\n",
    "        return 1  \n",
    "    elif 'not required' in reservation.lower():\n",
    "        return 0  \n",
    "    return 0  \n",
    "\n",
    "df['ReservationRequired'] = df['Reservations'].apply(is_reservation_required)\n",
    "print(df['ReservationRequired'])"
   ]
  },
  {
   "cell_type": "code",
   "execution_count": 30,
   "id": "06c32d9d-5fcf-4918-9db9-e9ef10228b19",
   "metadata": {},
   "outputs": [
    {
     "name": "stdout",
     "output_type": "stream",
     "text": [
      "0\n",
      "0               De Waterkant\n",
      "1                Green Point\n",
      "2                        CBD\n",
      "3      Cape Town City Centre\n",
      "4      Cape Town City Centre\n",
      "               ...          \n",
      "107                Sea Point\n",
      "108                Noordhoek\n",
      "109                  Gardens\n",
      "110              Franschhoek\n",
      "111              Franschhoek\n",
      "Name: Suburb, Length: 91, dtype: object\n"
     ]
    }
   ],
   "source": [
    "def extract_suburb_improved(address):\n",
    "    cape_town_match = re.search(r',\\s([^,]+),\\sCape Town', address)\n",
    "    if cape_town_match:\n",
    "        return cape_town_match.group(1).strip()\n",
    "    \n",
    "    components = [comp.strip() for comp in address.split(',')]\n",
    "    if len(components) >= 2:\n",
    "        last_comp = components[-1].strip()\n",
    "        if re.match(r'^\\d{4,5}$', last_comp):  \n",
    "            return components[-2].strip()\n",
    "        else:\n",
    "            return components[-1].strip()\n",
    "    \n",
    "\n",
    "    for comp in reversed(components):\n",
    "        comp = comp.strip()\n",
    "        # Skip components that look like street addresses or postal codes\n",
    "        if re.match(r'^\\d+\\s|^P\\.?O\\.?|^Street|^St$|^Road|^Rd$|^Ave|^\\d{4,5}$', comp, re.IGNORECASE):\n",
    "            continue\n",
    "        return comp\n",
    "    # If no suburb found, check if there's a standalone name after the last comma\n",
    "    standalone = re.search(r',\\s*([A-Za-z\\s]+)$', address)\n",
    "    if standalone:\n",
    "        return standalone.group(1).strip()\n",
    "            \n",
    "    return None\n",
    "\n",
    "# Applying the improved function to the dataframe\n",
    "df['Suburb'] = df['Address'].apply(extract_suburb_improved)\n",
    "print(df['Suburb'].isnull().sum())\n",
    "print(df['Suburb'])"
   ]
  },
  {
   "cell_type": "code",
   "execution_count": 31,
   "id": "8c2af4f1-e24b-4f34-bdcf-8373cf0db197",
   "metadata": {},
   "outputs": [
    {
     "name": "stdout",
     "output_type": "stream",
     "text": [
      "                                               Address                 Suburb\n",
      "0         160 Strand St, De Waterkant, Cape Town, 8001           De Waterkant\n",
      "1             83 Main Rd, Green Point, Cape Town, 8005            Green Point\n",
      "2                    101 Bree St, CBD, Cape Town, 8001  Cape Town City Centre\n",
      "3    38 Burg St, Cape Town City Centre, Cape Town, ...  Cape Town City Centre\n",
      "4    136 Bree St, Cape Town City Centre, Cape Town,...  Cape Town City Centre\n",
      "..                                                 ...                    ...\n",
      "107            323 Main Rd, Sea Point, Cape Town, 8060              Sea Point\n",
      "108  Noordhoek Farm Village, Noordhoek, Cape Town 7979              Noordhoek\n",
      "109                              39 Barnet St, Gardens                Gardens\n",
      "110                             R45, Franschhoek, 7690            Franschhoek\n",
      "111           Leeu Estates, Dassenberg Rd, Franschhoek            Franschhoek\n",
      "\n",
      "[91 rows x 2 columns]\n"
     ]
    }
   ],
   "source": [
    "# Replacing all instances of 'CBD' with 'Cape Town City Centre'\n",
    "df['Suburb'] = df['Suburb'].replace('CBD', 'Cape Town City Centre')\n",
    "print(df[['Address', 'Suburb']])"
   ]
  },
  {
   "cell_type": "code",
   "execution_count": 32,
   "id": "0c58f7cf-a53c-4ee9-9292-da80d0891109",
   "metadata": {},
   "outputs": [
    {
     "data": {
      "text/plain": [
       "np.int64(0)"
      ]
     },
     "execution_count": 32,
     "metadata": {},
     "output_type": "execute_result"
    }
   ],
   "source": [
    "df['Suburb'].isnull().sum()"
   ]
  },
  {
   "cell_type": "code",
   "execution_count": 33,
   "id": "037bba8b-3a54-4cb5-a6d6-351b81cc166f",
   "metadata": {},
   "outputs": [
    {
     "name": "stdout",
     "output_type": "stream",
     "text": [
      "['De Waterkant', 'Green Point', 'Cape Town City Centre', 'Cape Town City Centre', 'Cape Town City Centre', 'Green Point', 'Sea Point', '117 Strand St', 'Cape Town City Centre', '37 Parliament St', 'Gardens', 'Bowl', 'Croydon', 'Cape Town City Centre', 'Salt River', 'Victoria & Alfred Waterfront', 'Constantia Neck', 'District Six', 'Observatory', 'Constantia Nek', 'Constantia', 'Green Point', 'Cape Town City Centre', 'District Six', 'Cape Town City Centre', 'Sea Point', 'Sea Point', 'Cape Town City Centre', 'Gardens', 'Green Point', 'Green Point', 'Sea Point', 'Observatory', 'Sea Point', 'Sea Point', 'Observatory', 'Cape Town City Centre', 'Gardens', 'Victoria & Alfred Waterfront', 'Claremont', 'Cape Town City Centre', 'Newlands', 'Observatory', 'Cape Town City Centre', 'Victoria & Alfred Waterfront', '14 Long St', 'Sea Point', '59 Heerengracht St', 'Cape Town City Centre', 'Green Point', '71 Buitengracht St', 'Tyger Waterfront', 'Cape Town', 'Cape Town City Centre', 'Green Point', 'Gardens', \"Simon's Town\", 'Table View', 'Gardens', 'Mouille Point', 'Cape Town City Centre', 'Sea Point', 'Camps Bay', 'Hartfield Village', 'Gardens', 'Stellenbosch', 'Durbanville', 'Stellenbosch', 'Hermanus', 'Ndabeni', 'Cape Town City Centre', '邮政编码: 8060', 'Claremont', 'Mowbray', 'Cape Town City Centre', 'Green Point', 'Upper Canterbury St', 'Hermanus', 'Cape Town City Centre', 'Cape Town City Centre', 'Green Point', 'Bellville', 'Gardens', 'Cape Town City Centre', 'Pinelands', 'De Waterkant', 'Sea Point', 'Noordhoek', 'Gardens', 'Franschhoek', 'Franschhoek']\n"
     ]
    }
   ],
   "source": [
    "print(df['Suburb'].to_list())"
   ]
  },
  {
   "cell_type": "code",
   "execution_count": 34,
   "id": "725be04a-002f-4630-9ae2-70014bd28d4d",
   "metadata": {},
   "outputs": [
    {
     "name": "stdout",
     "output_type": "stream",
     "text": [
      "['160 Strand St, De Waterkant, Cape Town, 8001', '83 Main Rd, Green Point, Cape Town, 8005', '101 Bree St, CBD, Cape Town, 8001', '38 Burg St, Cape Town City Centre, Cape Town, 8000', '136 Bree St, Cape Town City Centre, Cape Town, 8001\\n', 'SHOGF007, Old Cape Quarter, 72 Waterkant St, Green Point, Cape Town, 8001', '2 Wisbeach Rd, Sea Point, Cape Town, 8060', '\\xa0In the foyer of, 117 Strand St, Cape Town City Centre, Cape Town, 8001', '110 Harrington St, Cape Town City Centre, Cape Town, 8000', '5th Floor, Speakers Corner, 37 Parliament St, Cape Town City Centre, Cape Town, 8001', '39 Barnet St, Gardens, Cape Town, 8001', '\\xa0Pierhead Building (next to the NSRI V&A Waterfront, Bowl, Cape Town, 8001', 'Faure Village Rd, Croydon, Cape Town, 7130', '58 Wale St, Cape Town City Centre, Cape Town, 8000', '100 Voortrekker Rd, Salt River, Cape Town, 7925', 'Pierhead Building (next to the NSRI, Victoria & Alfred Waterfront, Cape Town, 800', 'Beau Constantia Wine Farm, 1043 Constantia Main Road, Constantia Neck, Cape Town, 7806', ' 99 Harrington St, District Six, Cape Town, 7925', '226A Lower Main Rd, Observatory, Cape Town, 7925', 'Silvermist Wine Estate, Main Road, Constantia Nek, Cape Town, 7806', 'Shop 8, High Constantia Centre, Groot Constantia Road, Constantia, Cape Town, 7806', 'Corner of Prestwich, 22 Cobern St, Green Point, Cape Town, 8001', '71 Waterkant St, Cape Town City Centre, Cape Town, 800171 Waterkant St, CBD', '\\xa044 Harrington St, District Six, Cape Town, 8001', '22 Bree St, Cape Town City Centre, Cape Town, 8000', '\\xa092 Regent Rd, Sea Point, Cape Town, 8060', '78 Regent Rd, Sea Point, Cape Town, 8001', '22 Bree St, Cape Town City Centre, Cape Town, 8001', '47 Kloof St, Gardens, Cape Town, 8001', '\\xa06 St George Rd, Green Point, Cape Town, 8051', '37A Somerset Rd, Green Point, Cape Town, 8051', '206 Main Rd, Sea Point, Cape Town, 8005', '\\xa079 Lower Main Rd, Observatory, Cape Town, 7925', '\\xa0Adelphi Galleria, 277 Main Rd, Sea Point, Cape Town, 8001', 'Piazza Da Luz, 94 Regent Rd, Sea Point, Cape Town, 8060', '86 Lower Main Rd, Observatory, Cape Town, 7925', '87 Loop St, Cape Town City Centre, Cape Town, 8000', '45b Kloof St, Gardens, Cape Town, 8001', '\\xa01 Silo Square, Victoria & Alfred Waterfront, Cape Town, 8002', '117 Imam Haron Rd, Claremont, Cape Town, 7708', '120 Bree St, CBD, Cape Town, 8001', '\\xa0Cardiff Castle, corner of Main Street and, Kildare Rd, Newlands, Cape Town, 7700', '\\xa0109 Lower Main Rd, Observatory, Cape Town, 7925', '4 Bree St, Cape Town City Centre, Cape Town, 8000', 'Shop 6132, 19 Dock Rd, Victoria & Alfred Waterfront, Cape Town, 8001', 'Shop 2, 14 Long St, Cape Town City Centre, Cape Town, 8000', ' La Rhone Building, 77 Regent Rd, Sea Point, Cape Town, 8060', ' The Onyx Apartment Hotel, Cape Town, 59 Heerengracht St, Cape Town City Centre, Cape Town, 8005', '64A Wale St, Cape Town City Centre, Cape Town, 8001', '47 Main Rd, Green Point, Cape Town, 8005', 'Heritage Square, 71 Buitengracht St, Cape Town City Centre, Cape Town, 8001', '3 Waterfront Rd, Tyger Waterfront, Cape Town, 7530', 'Bree Street, Cape Town', '71 Waterkant St, Cape Town City Centre, Cape Town, 8001', 'First Floor, Exhibition Building, 79 Main Rd, Green Point, Cape Town, 8005', '50 Kloof St, Gardens, Cape Town, 8001', \"Boardwalk center, St George's St, Simon's Town, Cape Town, 7975\", 'Unit A10, Leonardo Park, 9 Parklands Main Rd, Table View, Cape Town, 7441', 'Shop 11, Kloof Street Village, Rheede St, Gardens, Cape Town, 8001', '125 Beach Rd, Mouille Point, Cape Town, 8005', '70 Keerom St, Cape Town City Centre, Cape Town, 8000', 'The Point Mall Shopping Centre in Sea Point, 8, 76 Regent Rd, Sea Point, Cape Town, 8060', 'Shop 1, The Promenade Shopping Centre, 85 Victoria Rd, Camps Bay, Cape Town, 8040', '45 2nd Ave, Hartfield Village, Cape Town', '9 Hof St, Gardens, Cape Town, 8001', '1 Van Riebeeck St, Stellenbosch Central, Stellenbosch, 7600', \"D'Aria Wine Farm, Tyger Valley Rd, Durbanville, Cape Town, 7550\", '56 Dorp St, Stellenbosch Central, Stellenbosch, 7599', '\\xa0Hermanus Waterfront, Market Square St, Hermanus, 7200', '42 Morningside St, Ndabeni, Cape Town, 7405', '49 Bree Street, Strand St, CBD, Cape Town, 8000', 'Cape Town, Sea Point, 邮政编码: 8060', '6 Cavendish St, Claremont, Cape Town, 7915', '41 Durban Rd, Mowbray, Cape Town, 7700', '78 Strand St, Cape Town City Centre, Cape Town, 8000', '39 Main Rd, Green Point, Cape Town, 80', 'Roeland Square, Corner Glynn, Upper Canterbury St, Cape Town, 8001', '10 Harbour Rd, Hermanus, 7200', 'Heritage Square, 100 Shortmarket St, CBD, Cape Town, 8005', '3b Barrack St, Cape Town City Centre, Cape Town, 8000', '103 Main Rd, Green Point, Cape Town, 8051', 'Tyger Lake Building, 2 Niagara Rd, Bellville, Cape Town, 7530', '177 Kloof St, Gardens, Cape Town, 8001', '70 Keerom St, CBD', 'Central Square, Pinelands', '125 Waterkant St, De Waterkant', '323 Main Rd, Sea Point, Cape Town, 8060', 'Noordhoek Farm Village, Noordhoek, Cape Town 7979', '39 Barnet St, Gardens', 'R45, Franschhoek, 7690', 'Leeu Estates, Dassenberg Rd, Franschhoek']\n"
     ]
    }
   ],
   "source": [
    "print(df['Address'].to_list())"
   ]
  },
  {
   "cell_type": "code",
   "execution_count": 36,
   "id": "55aaa3be-0820-4593-9107-b5f982610fae",
   "metadata": {},
   "outputs": [],
   "source": [
    "suburb_corrections = {\n",
    "    '117 Strand St': 'De Waterkant',\n",
    "    '37 Parliament St': 'Cape Town City Centre',\n",
    "    'Bowl': 'Victoria & Alfred Waterfront',\n",
    "    'Constantia Neck': 'Constantia',\n",
    "    'Constantia Nek': 'Constantia',\n",
    "    '14 Long St': 'Cape Town City Centre',\n",
    "    '59 Heerengracht St': 'Cape Town City Centre',\n",
    "    '71 Buitengracht St': 'Cape Town City Centre',\n",
    "    'Tyger Waterfront': 'Bellville',\n",
    "    'Hartfield Village': 'Mowbray',\n",
    "    '邮政编码: 8060': 'Sea Point',\n",
    "    'Upper Canterbury St': 'Gardens'\n",
    "}\n",
    "\n",
    "# Apply corrections to the Suburb column\n",
    "df['Suburb'] = df['Suburb'].replace(suburb_corrections)\n"
   ]
  },
  {
   "cell_type": "code",
   "execution_count": 37,
   "id": "f2efe3a1-7c20-40b5-b58e-07865982569f",
   "metadata": {},
   "outputs": [
    {
     "name": "stdout",
     "output_type": "stream",
     "text": [
      "['De Waterkant', 'Green Point', 'Cape Town City Centre', 'Cape Town City Centre', 'Cape Town City Centre', 'Green Point', 'Sea Point', 'De Waterkant', 'Cape Town City Centre', 'Cape Town City Centre', 'Gardens', 'Victoria & Alfred Waterfront', 'Croydon', 'Cape Town City Centre', 'Salt River', 'Victoria & Alfred Waterfront', 'Constantia', 'District Six', 'Observatory', 'Constantia', 'Constantia', 'Green Point', 'Cape Town City Centre', 'District Six', 'Cape Town City Centre', 'Sea Point', 'Sea Point', 'Cape Town City Centre', 'Gardens', 'Green Point', 'Green Point', 'Sea Point', 'Observatory', 'Sea Point', 'Sea Point', 'Observatory', 'Cape Town City Centre', 'Gardens', 'Victoria & Alfred Waterfront', 'Claremont', 'Cape Town City Centre', 'Newlands', 'Observatory', 'Cape Town City Centre', 'Victoria & Alfred Waterfront', 'Cape Town City Centre', 'Sea Point', 'Cape Town City Centre', 'Cape Town City Centre', 'Green Point', 'Cape Town City Centre', 'Bellville', 'Cape Town', 'Cape Town City Centre', 'Green Point', 'Gardens', \"Simon's Town\", 'Table View', 'Gardens', 'Mouille Point', 'Cape Town City Centre', 'Sea Point', 'Camps Bay', 'Mowbray', 'Gardens', 'Stellenbosch', 'Durbanville', 'Stellenbosch', 'Hermanus', 'Ndabeni', 'Cape Town City Centre', 'Sea Point', 'Claremont', 'Mowbray', 'Cape Town City Centre', 'Green Point', 'Gardens', 'Hermanus', 'Cape Town City Centre', 'Cape Town City Centre', 'Green Point', 'Bellville', 'Gardens', 'Cape Town City Centre', 'Pinelands', 'De Waterkant', 'Sea Point', 'Noordhoek', 'Gardens', 'Franschhoek', 'Franschhoek']\n"
     ]
    }
   ],
   "source": [
    "print(df['Suburb'].to_list())"
   ]
  },
  {
   "cell_type": "code",
   "execution_count": 38,
   "id": "4dbc1e73-7740-4a31-a467-d57a0f589f06",
   "metadata": {},
   "outputs": [
    {
     "name": "stdout",
     "output_type": "stream",
     "text": [
      "                       Restaurant Name  Category/Cuisine  \\\n",
      "0                     Ground Art Caffe  Café/Coffee Shop   \n",
      "1                         Jason Bakery  Café/Coffee Shop   \n",
      "2  Rosetta Roastery Cafe (Bree Street)  Café/Coffee Shop   \n",
      "3                   Heaven Coffee Shop  Café/Coffee Shop   \n",
      "4                           The Ladder  Café/Coffee Shop   \n",
      "\n",
      "                                       Opening Hours  \\\n",
      "0  Monday 7 am–3 pm\\nTuesday 7 am–3 pm\\nWednesday...   \n",
      "1  Tuesday 7 am–3 pm\\nWednesday 7 am–3 pm\\nThursd...   \n",
      "2  Monday 7 am–4 pm\\nTuesday 7 am–4 pm\\nWednesday...   \n",
      "3  Tuesday 7 am–5 pm\\nWednesday 7 am–5 pm\\nThursd...   \n",
      "4  Tuesday 7 am–4 pm\\nWednesday 7 am–4 pm\\nThursd...   \n",
      "\n",
      "                                             Address Contact Number  \\\n",
      "0       160 Strand St, De Waterkant, Cape Town, 8001      214181331   \n",
      "1           83 Main Rd, Green Point, Cape Town, 8005      214330538   \n",
      "2                  101 Bree St, CBD, Cape Town, 8001      214474099   \n",
      "3  38 Burg St, Cape Town City Centre, Cape Town, ...      728842057   \n",
      "4  136 Bree St, Cape Town City Centre, Cape Town,...      824511572   \n",
      "\n",
      "                                            Ambiance  Reservations  \\\n",
      "0  Ground Art Caffe is a casual cafe in De Waterk...  Not Required   \n",
      "1  Jason Bakery in Cape Town is a beloved spot th...  Not Required   \n",
      "2  Rosetta Roastery Café on Bree Street in Cape T...  Not Required   \n",
      "3  Heaven Coffee Shop, nestled inside the stunnin...  Not Required   \n",
      "4  The Ladder on Bree Street is a trendy, bustlin...  Not Required   \n",
      "\n",
      "                                           Image Url  \\\n",
      "0  <blockquote class=\"instagram-media\" data-instg...   \n",
      "1  <blockquote class=\"instagram-media\" data-instg...   \n",
      "2  <blockquote class=\"instagram-media\" data-instg...   \n",
      "3  <blockquote class=\"instagram-media\" data-instg...   \n",
      "4  <blockquote class=\"instagram-media\" data-instg...   \n",
      "\n",
      "                                          Image_Url2  Rating_Value  ...  \\\n",
      "0  <blockquote class=\"instagram-media\" data-instg...           4.8  ...   \n",
      "1  <blockquote class=\"instagram-media\" data-instg...           4.5  ...   \n",
      "2  <blockquote class=\"instagram-media\" data-instg...           4.7  ...   \n",
      "3  <blockquote class=\"instagram-media\" data-instg...           4.7  ...   \n",
      "4  <blockquote class=\"instagram-media\" data-instg...           4.6  ...   \n",
      "\n",
      "   Suburb_Newlands  Suburb_Noordhoek  Suburb_Observatory  Suburb_Pinelands  \\\n",
      "0                0                 0                   0                 0   \n",
      "1                0                 0                   0                 0   \n",
      "2                0                 0                   0                 0   \n",
      "3                0                 0                   0                 0   \n",
      "4                0                 0                   0                 0   \n",
      "\n",
      "   Suburb_Salt River  Suburb_Sea Point  Suburb_Simon's Town  \\\n",
      "0                  0                 0                    0   \n",
      "1                  0                 0                    0   \n",
      "2                  0                 0                    0   \n",
      "3                  0                 0                    0   \n",
      "4                  0                 0                    0   \n",
      "\n",
      "   Suburb_Stellenbosch  Suburb_Table View  Suburb_Victoria & Alfred Waterfront  \n",
      "0                    0                  0                                    0  \n",
      "1                    0                  0                                    0  \n",
      "2                    0                  0                                    0  \n",
      "3                    0                  0                                    0  \n",
      "4                    0                  0                                    0  \n",
      "\n",
      "[5 rows x 45 columns]\n"
     ]
    }
   ],
   "source": [
    "df = pd.get_dummies(df, columns=['Suburb'], prefix='Suburb', dtype=int)\n",
    "print(df.head(5))"
   ]
  },
  {
   "cell_type": "code",
   "execution_count": 39,
   "id": "2c0eb250-3e06-4a1c-93e0-ccd4a08ed5cc",
   "metadata": {},
   "outputs": [
    {
     "name": "stdout",
     "output_type": "stream",
     "text": [
      "0      214181331\n",
      "1      214330538\n",
      "2      214474099\n",
      "3      728842057\n",
      "4      824511572\n",
      "         ...    \n",
      "107    214394014\n",
      "108    217891390\n",
      "109    214650000\n",
      "110    218762116\n",
      "111    212023395\n",
      "Name: Contact Number, Length: 91, dtype: object\n"
     ]
    }
   ],
   "source": [
    "print(df['Contact Number'])"
   ]
  },
  {
   "cell_type": "code",
   "execution_count": 40,
   "id": "174028bc-a888-4d12-aebb-621104fb7152",
   "metadata": {},
   "outputs": [
    {
     "name": "stdout",
     "output_type": "stream",
     "text": [
      "0      +27 21 418 1331\n",
      "1      +27 21 433 0538\n",
      "2      +27 21 447 4099\n",
      "3      +27 72 884 2057\n",
      "4      +27 82 451 1572\n",
      "            ...       \n",
      "107    +27 21 439 4014\n",
      "108    +27 21 789 1390\n",
      "109    +27 21 465 0000\n",
      "110    +27 21 876 2116\n",
      "111    +27 21 202 3395\n",
      "Name: Contact Number, Length: 91, dtype: object\n"
     ]
    }
   ],
   "source": [
    "#converting contact number to correct format, fixing inconsistent formatting\n",
    "def clean_phone_number(number):\n",
    "    if pd.isna(number) or number == \"Not Available\":  \n",
    "        return number  \n",
    "\n",
    "    number = re.sub(r'[^\\d+]', '', str(number))\n",
    "\n",
    "    if number.startswith(\"0\"):\n",
    "        number = \"+27\" + number[1:]\n",
    "\n",
    "    elif len(number) == 9:\n",
    "        number = \"+27\" + number\n",
    "\n",
    "    if number.startswith(\"+27\") and len(number) >= 11:\n",
    "        formatted_number = \"+27 \" + number[3:5] + \" \" + number[5:8] + \" \" + number[8:]\n",
    "        return formatted_number\n",
    "    \n",
    "    return number  \n",
    "\n",
    "\n",
    "df[\"Contact Number\"] = df[\"Contact Number\"].apply(clean_phone_number)\n",
    "print(df['Contact Number'])"
   ]
  },
  {
   "cell_type": "code",
   "execution_count": 41,
   "id": "30ac239e-40cf-4073-8443-b78dc070d2bb",
   "metadata": {},
   "outputs": [
    {
     "name": "stdout",
     "output_type": "stream",
     "text": [
      "                          Restaurant Name Category/Cuisine  \\\n",
      "48  Pauline's Greenpoint @Goodman Gallery             Café   \n",
      "\n",
      "                                        Opening Hours  \\\n",
      "48  Wednesday 7:30 am–4 pm\\nThursday 7:30 am–4 pm\\...   \n",
      "\n",
      "                                          Address Contact Number  \\\n",
      "48  37A Somerset Rd, Green Point, Cape Town, 8051            NaN   \n",
      "\n",
      "                                             Ambiance  Reservations  \\\n",
      "48  A chic and artistic café located in a gallery ...  Not Required   \n",
      "\n",
      "                                            Image Url  \\\n",
      "48  <blockquote class=\"instagram-media\" data-instg...   \n",
      "\n",
      "                                           Image_Url2  Rating_Value  ...  \\\n",
      "48  <blockquote class=\"instagram-media\" data-instg...           4.8  ...   \n",
      "\n",
      "    Suburb_Newlands  Suburb_Noordhoek  Suburb_Observatory  Suburb_Pinelands  \\\n",
      "48                0                 0                   0                 0   \n",
      "\n",
      "    Suburb_Salt River  Suburb_Sea Point  Suburb_Simon's Town  \\\n",
      "48                  0                 0                    0   \n",
      "\n",
      "    Suburb_Stellenbosch  Suburb_Table View  \\\n",
      "48                    0                  0   \n",
      "\n",
      "    Suburb_Victoria & Alfred Waterfront  \n",
      "48                                    0  \n",
      "\n",
      "[1 rows x 45 columns]\n"
     ]
    }
   ],
   "source": [
    "missing_data = df[df['Contact Number'].isnull()]\n",
    "print(missing_data)"
   ]
  },
  {
   "cell_type": "code",
   "execution_count": 42,
   "id": "a0f0e847-1641-4968-a974-8232fd8bfbb4",
   "metadata": {},
   "outputs": [
    {
     "name": "stdout",
     "output_type": "stream",
     "text": [
      "0\n"
     ]
    }
   ],
   "source": [
    "df.loc[48, 'Contact Number'] = \"021 462 7573\"\n",
    "df['Contact Number'] = df['Contact Number'].apply(clean_phone_number)\n",
    "print(df['Contact Number'].isnull().sum())"
   ]
  },
  {
   "cell_type": "code",
   "execution_count": 43,
   "id": "2292e3aa-dcd1-4e36-b2ad-c627b85de435",
   "metadata": {},
   "outputs": [
    {
     "name": "stdout",
     "output_type": "stream",
     "text": [
      "Found 0 contact numbers with invalid format:\n"
     ]
    }
   ],
   "source": [
    "def check_phone_formats(df):\n",
    "    correct_pattern = r'^\\+27\\s\\d{2}\\s\\d{3}\\s\\d{4}$'\n",
    "    \n",
    "    invalid_mask = (~df[\"Contact Number\"].str.match(correct_pattern, na=False)) & (df[\"Contact Number\"] != \"Not Available\") & (~df[\"Contact Number\"].isna())\n",
    "    \n",
    "    invalid_numbers = df.loc[invalid_mask, \"Contact Number\"]\n",
    "    \n",
    "    print(f\"Found {len(invalid_numbers)} contact numbers with invalid format:\")\n",
    "    \n",
    "    # Printing the invalid numbers with their indices for easy reference\n",
    "    for idx, number in invalid_numbers.items():\n",
    "        print(f\"Row {idx}: {number}\")\n",
    "    \n",
    "    return invalid_mask\n",
    "\n",
    "invalid_mask = check_phone_formats(df)"
   ]
  },
  {
   "cell_type": "code",
   "execution_count": 44,
   "id": "1fd8f55b-9f30-45bb-8984-b9b352d4dbb6",
   "metadata": {},
   "outputs": [
    {
     "name": "stdout",
     "output_type": "stream",
     "text": [
      "0      café/coffee shop\n",
      "1      café/coffee shop\n",
      "2      café/coffee shop\n",
      "3      café/coffee shop\n",
      "4      café/coffee shop\n",
      "             ...       \n",
      "107             italian\n",
      "108              french\n",
      "109              french\n",
      "110              french\n",
      "111              french\n",
      "Name: Category/Cuisine, Length: 91, dtype: object\n"
     ]
    }
   ],
   "source": [
    "#Converting all entries in the 'Category/Cuisine' column to lowercase\n",
    "df['Category/Cuisine'] = df['Category/Cuisine'].str.lower()\n",
    "print(df['Category/Cuisine'])"
   ]
  },
  {
   "cell_type": "code",
   "execution_count": 45,
   "id": "f587c053-f42b-4984-b6bc-3407478be38e",
   "metadata": {},
   "outputs": [
    {
     "name": "stdout",
     "output_type": "stream",
     "text": [
      "0      café/coffee shop\n",
      "1      café/coffee shop\n",
      "2      café/coffee shop\n",
      "3      café/coffee shop\n",
      "4      café/coffee shop\n",
      "             ...       \n",
      "107             italian\n",
      "108              french\n",
      "109              french\n",
      "110              french\n",
      "111              french\n",
      "Name: Category/Cuisine, Length: 91, dtype: object\n"
     ]
    }
   ],
   "source": [
    "df['Category/Cuisine'] = df['Category/Cuisine'].str.strip()\n",
    "df['Category/Cuisine'] = df['Category/Cuisine'].str.replace(r'\\s+', ' ', regex=True)\n",
    "print(df['Category/Cuisine'])"
   ]
  },
  {
   "cell_type": "code",
   "execution_count": 46,
   "id": "7a9c6c36-40e6-4593-8d14-9bfe0d75aa6c",
   "metadata": {},
   "outputs": [
    {
     "name": "stdout",
     "output_type": "stream",
     "text": [
      "0      café,coffee shop\n",
      "1      café,coffee shop\n",
      "2      café,coffee shop\n",
      "3      café,coffee shop\n",
      "4      café,coffee shop\n",
      "             ...       \n",
      "107             italian\n",
      "108              french\n",
      "109              french\n",
      "110              french\n",
      "111              french\n",
      "Name: Category/Cuisine, Length: 91, dtype: object\n"
     ]
    }
   ],
   "source": [
    "df['Category/Cuisine'] = df['Category/Cuisine'].str.replace('/', ',')\n",
    "print(df['Category/Cuisine'])"
   ]
  },
  {
   "cell_type": "code",
   "execution_count": 47,
   "id": "3375185e-81fb-49ed-995f-f781473c4142",
   "metadata": {},
   "outputs": [
    {
     "name": "stdout",
     "output_type": "stream",
     "text": [
      "                         Restaurant Name  \\\n",
      "0                       Ground Art Caffe   \n",
      "1                           Jason Bakery   \n",
      "2    Rosetta Roastery Cafe (Bree Street)   \n",
      "3                     Heaven Coffee Shop   \n",
      "4                             The Ladder   \n",
      "..                                   ...   \n",
      "107         Posticino Italian Restaurant   \n",
      "108                         The Foodbarn   \n",
      "109                            Aubergine   \n",
      "110            Chefs Warehouse at Maison   \n",
      "111                    La Petite Colombe   \n",
      "\n",
      "                                         Opening Hours  \\\n",
      "0    Monday 7 am–3 pm\\nTuesday 7 am–3 pm\\nWednesday...   \n",
      "1    Tuesday 7 am–3 pm\\nWednesday 7 am–3 pm\\nThursd...   \n",
      "2    Monday 7 am–4 pm\\nTuesday 7 am–4 pm\\nWednesday...   \n",
      "3    Tuesday 7 am–5 pm\\nWednesday 7 am–5 pm\\nThursd...   \n",
      "4    Tuesday 7 am–4 pm\\nWednesday 7 am–4 pm\\nThursd...   \n",
      "..                                                 ...   \n",
      "107                             Mon-Sun: 12:30 - 22:00   \n",
      "108  Wednesday 8 am–9:30 pm\\nThursday 8 am–9:30 pm\\...   \n",
      "109  Wednesday 6–10 pm\\nThursday 12–2 pm, 6–10 pm\\n...   \n",
      "110  Wednesday 12–9 pm\\nThursday 12–9 pm\\nFriday 12...   \n",
      "111  Thursday 12–10 pm\\nFriday 12–10 pm\\nSaturday 1...   \n",
      "\n",
      "                                               Address   Contact Number  \\\n",
      "0         160 Strand St, De Waterkant, Cape Town, 8001  +27 21 418 1331   \n",
      "1             83 Main Rd, Green Point, Cape Town, 8005  +27 21 433 0538   \n",
      "2                    101 Bree St, CBD, Cape Town, 8001  +27 21 447 4099   \n",
      "3    38 Burg St, Cape Town City Centre, Cape Town, ...  +27 72 884 2057   \n",
      "4    136 Bree St, Cape Town City Centre, Cape Town,...  +27 82 451 1572   \n",
      "..                                                 ...              ...   \n",
      "107            323 Main Rd, Sea Point, Cape Town, 8060  +27 21 439 4014   \n",
      "108  Noordhoek Farm Village, Noordhoek, Cape Town 7979  +27 21 789 1390   \n",
      "109                              39 Barnet St, Gardens  +27 21 465 0000   \n",
      "110                             R45, Franschhoek, 7690  +27 21 876 2116   \n",
      "111           Leeu Estates, Dassenberg Rd, Franschhoek  +27 21 202 3395   \n",
      "\n",
      "                                              Ambiance  \\\n",
      "0    Ground Art Caffe is a casual cafe in De Waterk...   \n",
      "1    Jason Bakery in Cape Town is a beloved spot th...   \n",
      "2    Rosetta Roastery Café on Bree Street in Cape T...   \n",
      "3    Heaven Coffee Shop, nestled inside the stunnin...   \n",
      "4    The Ladder on Bree Street is a trendy, bustlin...   \n",
      "..                                                 ...   \n",
      "107  Cozy and casual, with a welcoming vibe that ca...   \n",
      "108  A rustic and charming setting with a touch of ...   \n",
      "109  Upscale and elegant, with a chic, intimate atm...   \n",
      "110  Stylish and sophisticated, with a stunning set...   \n",
      "111  Exclusive and elegant, set in a serene environ...   \n",
      "\n",
      "                                          Reservations  \\\n",
      "0                                         Not Required   \n",
      "1                                         Not Required   \n",
      "2                                         Not Required   \n",
      "3                                         Not Required   \n",
      "4                                         Not Required   \n",
      "..                                                 ...   \n",
      "107                                          214393974   \n",
      "108         https://www.thefoodbarn.co.za/reservations   \n",
      "109              https://www.aubergine.co.za/book-now/   \n",
      "110              https://www.chefswarehouse.co.za/book   \n",
      "111  https://www.dineplan.com/restaurants/la-petite...   \n",
      "\n",
      "                                             Image Url  \\\n",
      "0    <blockquote class=\"instagram-media\" data-instg...   \n",
      "1    <blockquote class=\"instagram-media\" data-instg...   \n",
      "2    <blockquote class=\"instagram-media\" data-instg...   \n",
      "3    <blockquote class=\"instagram-media\" data-instg...   \n",
      "4    <blockquote class=\"instagram-media\" data-instg...   \n",
      "..                                                 ...   \n",
      "107  <blockquote class=\"instagram-media\" data-instg...   \n",
      "108  <blockquote class=\"instagram-media\" data-instg...   \n",
      "109  <blockquote class=\"instagram-media\" data-instg...   \n",
      "110  <blockquote class=\"instagram-media\" data-instg...   \n",
      "111  <blockquote class=\"instagram-media\" data-instg...   \n",
      "\n",
      "                                            Image_Url2  Rating_Value  \\\n",
      "0    <blockquote class=\"instagram-media\" data-instg...           4.8   \n",
      "1    <blockquote class=\"instagram-media\" data-instg...           4.5   \n",
      "2    <blockquote class=\"instagram-media\" data-instg...           4.7   \n",
      "3    <blockquote class=\"instagram-media\" data-instg...           4.7   \n",
      "4    <blockquote class=\"instagram-media\" data-instg...           4.6   \n",
      "..                                                 ...           ...   \n",
      "107  <blockquote class=\"instagram-media\" data-instg...           4.4   \n",
      "108  <blockquote class=\"instagram-media\" data-instg...           4.6   \n",
      "109  <blockquote class=\"instagram-media\" data-instg...           4.5   \n",
      "110  <blockquote class=\"instagram-media\" data-instg...           4.5   \n",
      "111  <blockquote class=\"instagram-media\" data-instg...           4.8   \n",
      "\n",
      "     Review_Count  ...  italian  korean  mediterranean  meditterean  seafood  \\\n",
      "0           405.0  ...    False   False          False        False    False   \n",
      "1          2000.0  ...    False   False          False        False    False   \n",
      "2           704.0  ...    False   False          False        False    False   \n",
      "3           210.0  ...    False   False          False        False    False   \n",
      "4           489.0  ...    False   False          False        False    False   \n",
      "..            ...  ...      ...     ...            ...          ...      ...   \n",
      "107        2007.0  ...     True   False          False        False    False   \n",
      "108        1179.0  ...    False   False          False        False    False   \n",
      "109         495.0  ...    False   False          False        False    False   \n",
      "110         706.0  ...    False   False          False        False    False   \n",
      "111         993.0  ...    False   False          False        False    False   \n",
      "\n",
      "     steakhouse  sushi  sushi bar   thai  vegetarian-friendly  \n",
      "0         False  False      False  False                False  \n",
      "1         False  False      False  False                False  \n",
      "2         False  False      False  False                False  \n",
      "3         False  False      False  False                False  \n",
      "4         False  False      False  False                False  \n",
      "..          ...    ...        ...    ...                  ...  \n",
      "107       False  False      False  False                False  \n",
      "108       False  False      False  False                False  \n",
      "109       False  False      False  False                False  \n",
      "110       False  False      False  False                False  \n",
      "111       False  False      False  False                False  \n",
      "\n",
      "[91 rows x 66 columns]\n"
     ]
    }
   ],
   "source": [
    "def split_and_one_hot_encode(df, column_name):\n",
    "    \"\"\"Splits values in the specified column by commas and performs one-hot encoding.\"\"\"\n",
    "    \n",
    "    # Split categories and convert to list format\n",
    "    df[column_name] = df[column_name].apply(\n",
    "        lambda x: [cat.strip().lower() for cat in x.split(',')] if isinstance(x, str) else []\n",
    "    )\n",
    "    \n",
    "    df = df.explode(column_name)\n",
    "    \n",
    "    # Perform one-hot encoding\n",
    "    df = pd.get_dummies(df, columns=[column_name], prefix='', prefix_sep='')\n",
    " \n",
    "    df = df.groupby(df.index).max()\n",
    "    \n",
    "    return df\n",
    "\n",
    "df = split_and_one_hot_encode(df, 'Category/Cuisine')\n",
    "print(df)"
   ]
  },
  {
   "cell_type": "code",
   "execution_count": 68,
   "id": "2920134a-cc4b-4e85-b54b-cea0b6fbd1d9",
   "metadata": {},
   "outputs": [
    {
     "name": "stdout",
     "output_type": "stream",
     "text": [
      "                       Restaurant Name  \\\n",
      "0                     Ground Art Caffe   \n",
      "1                         Jason Bakery   \n",
      "2  Rosetta Roastery Cafe (Bree Street)   \n",
      "3                   Heaven Coffee Shop   \n",
      "4                           The Ladder   \n",
      "\n",
      "                                       Opening Hours  \\\n",
      "0  Monday 07:00-15:00; Tuesday 07:00-15:00; Wedne...   \n",
      "1  Tuesday 07:00-15:00; Wednesday 07:00-15:00; Th...   \n",
      "2  Monday 07:00-16:00; Tuesday 07:00-16:00; Wedne...   \n",
      "3  Tuesday 07:00-17:00; Wednesday 07:00-17:00; Th...   \n",
      "4  Tuesday 07:00-16:00; Wednesday 07:00-16:00; Th...   \n",
      "\n",
      "                                             Address   Contact Number  \\\n",
      "0       160 Strand St, De Waterkant, Cape Town, 8001  +27 21 418 1331   \n",
      "1           83 Main Rd, Green Point, Cape Town, 8005  +27 21 433 0538   \n",
      "2                  101 Bree St, CBD, Cape Town, 8001  +27 21 447 4099   \n",
      "3  38 Burg St, Cape Town City Centre, Cape Town, ...  +27 72 884 2057   \n",
      "4  136 Bree St, Cape Town City Centre, Cape Town,...  +27 82 451 1572   \n",
      "\n",
      "                                            Ambiance  Reservations  \\\n",
      "0  Ground Art Caffe is a casual cafe in De Waterk...  Not Required   \n",
      "1  Jason Bakery in Cape Town is a beloved spot th...  Not Required   \n",
      "2  Rosetta Roastery Café on Bree Street in Cape T...  Not Required   \n",
      "3  Heaven Coffee Shop, nestled inside the stunnin...  Not Required   \n",
      "4  The Ladder on Bree Street is a trendy, bustlin...  Not Required   \n",
      "\n",
      "                                           Image Url  \\\n",
      "0  <blockquote class=\"instagram-media\" data-instg...   \n",
      "1  <blockquote class=\"instagram-media\" data-instg...   \n",
      "2  <blockquote class=\"instagram-media\" data-instg...   \n",
      "3  <blockquote class=\"instagram-media\" data-instg...   \n",
      "4  <blockquote class=\"instagram-media\" data-instg...   \n",
      "\n",
      "                                          Image_Url2  Rating_Value  \\\n",
      "0  <blockquote class=\"instagram-media\" data-instg...           4.8   \n",
      "1  <blockquote class=\"instagram-media\" data-instg...           4.5   \n",
      "2  <blockquote class=\"instagram-media\" data-instg...           4.7   \n",
      "3  <blockquote class=\"instagram-media\" data-instg...           4.7   \n",
      "4  <blockquote class=\"instagram-media\" data-instg...           4.6   \n",
      "\n",
      "   Review_Count  ...  mediterranean  meditterean  seafood  steakhouse  sushi  \\\n",
      "0         405.0  ...              0            0        0           0      0   \n",
      "1        2000.0  ...              0            0        0           0      0   \n",
      "2         704.0  ...              0            0        0           0      0   \n",
      "3         210.0  ...              0            0        0           0      0   \n",
      "4         489.0  ...              0            0        0           0      0   \n",
      "\n",
      "   sushi bar  thai  vegetarian-friendly  Ambiance_Category  \\\n",
      "0          0     0                    0                  4   \n",
      "1          0     0                    0                  4   \n",
      "2          0     0                    0                  4   \n",
      "3          0     0                    0                  4   \n",
      "4          0     0                    0                  4   \n",
      "\n",
      "                   Ambiance_Label  \n",
      "0  Casual Café & Cozy Coffee Spot  \n",
      "1  Casual Café & Cozy Coffee Spot  \n",
      "2  Casual Café & Cozy Coffee Spot  \n",
      "3  Casual Café & Cozy Coffee Spot  \n",
      "4  Casual Café & Cozy Coffee Spot  \n",
      "\n",
      "[5 rows x 68 columns]\n"
     ]
    },
    {
     "name": "stderr",
     "output_type": "stream",
     "text": [
      "C:\\Users\\Game\\AppData\\Local\\Temp\\ipykernel_8276\\792568706.py:2: FutureWarning: DataFrame.applymap has been deprecated. Use DataFrame.map instead.\n",
      "  df = df.applymap(lambda x: '1' if x is True else ('0' if x is False else x))\n"
     ]
    }
   ],
   "source": [
    "# Converting boolean columns to '1' and '0' as strings\n",
    "df = df.applymap(lambda x: '1' if x is True else ('0' if x is False else x))\n",
    "\n",
    "print(df.head(5))"
   ]
  },
  {
   "cell_type": "code",
   "execution_count": 48,
   "id": "f00846b5-93e6-4e86-adc2-d1ba1d657207",
   "metadata": {},
   "outputs": [
    {
     "name": "stdout",
     "output_type": "stream",
     "text": [
      "0                         Ground Art Caffe\n",
      "1                             Jason Bakery\n",
      "2      Rosetta Roastery Cafe (Bree Street)\n",
      "3                       Heaven Coffee Shop\n",
      "4                               The Ladder\n",
      "                      ...                 \n",
      "107           Posticino Italian Restaurant\n",
      "108                           The Foodbarn\n",
      "109                              Aubergine\n",
      "110              Chefs Warehouse At Maison\n",
      "111                      La Petite Colombe\n",
      "Name: Restaurant Name, Length: 91, dtype: object\n"
     ]
    }
   ],
   "source": [
    "#Standardizing Restaurant Name Column\n",
    "df['Restaurant Name'] = df['Restaurant Name'].str.strip()  # Remove leading/trailing spac\n",
    "df['Restaurant Name'] = df['Restaurant Name'].str.replace(r\"\\n\", \" \", regex=True)  # Remove newline characters\n",
    "df['Restaurant Name'] = df['Restaurant Name'].str.title()  # Capitalize each word\n",
    "print(df['Restaurant Name'])"
   ]
  },
  {
   "cell_type": "code",
   "execution_count": 49,
   "id": "643e02ff-57bb-4664-81b5-2613d24fc215",
   "metadata": {},
   "outputs": [
    {
     "name": "stdout",
     "output_type": "stream",
     "text": [
      "0      Monday 7 am–3 pm\\nTuesday 7 am–3 pm\\nWednesday...\n",
      "1      Tuesday 7 am–3 pm\\nWednesday 7 am–3 pm\\nThursd...\n",
      "2      Monday 7 am–4 pm\\nTuesday 7 am–4 pm\\nWednesday...\n",
      "3      Tuesday 7 am–5 pm\\nWednesday 7 am–5 pm\\nThursd...\n",
      "4      Tuesday 7 am–4 pm\\nWednesday 7 am–4 pm\\nThursd...\n",
      "                             ...                        \n",
      "107                               Mon-Sun: 12:30 - 22:00\n",
      "108    Wednesday 8 am–9:30 pm\\nThursday 8 am–9:30 pm\\...\n",
      "109    Wednesday 6–10 pm\\nThursday 12–2 pm, 6–10 pm\\n...\n",
      "110    Wednesday 12–9 pm\\nThursday 12–9 pm\\nFriday 12...\n",
      "111    Thursday 12–10 pm\\nFriday 12–10 pm\\nSaturday 1...\n",
      "Name: Opening Hours, Length: 91, dtype: object\n"
     ]
    }
   ],
   "source": [
    "print(df['Opening Hours'])"
   ]
  },
  {
   "cell_type": "code",
   "execution_count": 50,
   "id": "6b321a65-6584-46d4-b918-2cb895f614f3",
   "metadata": {},
   "outputs": [
    {
     "name": "stdout",
     "output_type": "stream",
     "text": [
      "0      Monday 7 am–3 pm; Tuesday 7 am–3 pm; Wednesday...\n",
      "1      Tuesday 7 am–3 pm; Wednesday 7 am–3 pm; Thursd...\n",
      "2      Monday 7 am–4 pm; Tuesday 7 am–4 pm; Wednesday...\n",
      "3      Tuesday 7 am–5 pm; Wednesday 7 am–5 pm; Thursd...\n",
      "4      Tuesday 7 am–4 pm; Wednesday 7 am–4 pm; Thursd...\n",
      "                             ...                        \n",
      "107                               Mon-Sun: 12:30 - 22:00\n",
      "108    Wednesday 8 am–9:30 pm; Thursday 8 am–9:30 pm;...\n",
      "109    Wednesday 6–10 pm; Thursday 12–2 pm, 6–10 pm; ...\n",
      "110    Wednesday 12–9 pm; Thursday 12–9 pm; Friday 12...\n",
      "111    Thursday 12–10 pm; Friday 12–10 pm; Saturday 1...\n",
      "Name: Opening Hours, Length: 91, dtype: object\n"
     ]
    }
   ],
   "source": [
    "def clean_times(text):\n",
    "    # Replace line breaks with commas for cleaner formatting\n",
    "    text = text.replace(\"\\n\", \"; \")\n",
    "    return text\n",
    "df[\"Opening Hours\"] = df[\"Opening Hours\"].apply(clean_times)\n",
    "print(df['Opening Hours'])"
   ]
  },
  {
   "cell_type": "code",
   "execution_count": 51,
   "id": "c57ced3b-df6e-4803-9e14-cc82de560258",
   "metadata": {},
   "outputs": [
    {
     "name": "stdout",
     "output_type": "stream",
     "text": [
      "0      Monday 7 am–3 pm; Tuesday 7 am–3 pm; Wednesday...\n",
      "1      Tuesday 7 am–3 pm; Wednesday 7 am–3 pm; Thursd...\n",
      "2      Monday 7 am–4 pm; Tuesday 7 am–4 pm; Wednesday...\n",
      "3      Tuesday 7 am–5 pm; Wednesday 7 am–5 pm; Thursd...\n",
      "4      Tuesday 7 am–4 pm; Wednesday 7 am–4 pm; Thursd...\n",
      "                             ...                        \n",
      "107                         Monday-Sunday: 12:30 - 22:00\n",
      "108    Wednesday 8 am–9:30 pm; Thursday 8 am–9:30 pm;...\n",
      "109    Wednesday 6–10 pm; Thursday 12–2 pm, 6–10 pm; ...\n",
      "110    Wednesday 12–9 pm; Thursday 12–9 pm; Friday 12...\n",
      "111    Thursday 12–10 pm; Friday 12–10 pm; Saturday 1...\n",
      "Name: Opening Hours, Length: 91, dtype: object\n"
     ]
    }
   ],
   "source": [
    "# Dictionary to map various day formats to standard full names\n",
    "day_mapping = {\n",
    "    \"Mon\": \"Monday\", \"Tue\": \"Tuesday\", \"Wed\": \"Wednesday\", \"Thu\": \"Thursday\", \"Thur\": \"Thursday\", \"Fri\": \"Friday\",\n",
    "    \"Sat\": \"Saturday\", \"Sun\": \"Sunday\"\n",
    "}\n",
    "\n",
    "# Function to standardize day formats\n",
    "def standardize_days(text):\n",
    "    # Replacing short forms with full names\n",
    "    for short, full in day_mapping.items():\n",
    "        text = re.sub(rf\"\\b{short}\\b\", full, text)  # \\b ensures only full word matches\n",
    "    \n",
    "    return text\n",
    "\n",
    "df[\"Opening Hours\"] = df[\"Opening Hours\"].apply(standardize_days)\n",
    "\n",
    "print(df['Opening Hours'])"
   ]
  },
  {
   "cell_type": "code",
   "execution_count": 52,
   "id": "3bd88e7d-2b93-460b-b7f3-9d3871f5da39",
   "metadata": {},
   "outputs": [
    {
     "name": "stdout",
     "output_type": "stream",
     "text": [
      "0      Monday 07:00:00-15:00; Tuesday 07:00:00-15:00;...\n",
      "1      Tuesday 07:00:00-15:00; Wednesday 07:00:00-15:...\n",
      "2      Monday 07:00:00-16:00; Tuesday 07:00:00-16:00;...\n",
      "3      Tuesday 07:00:00-17:00; Wednesday 07:00:00-17:...\n",
      "4      Tuesday 07:00:00-16:00; Wednesday 07:00:00-16:...\n",
      "                             ...                        \n",
      "107                        Monday-Sunday: 12:30:00-22:00\n",
      "108    Wednesday 08:00:00-21:00; Thursday 08:00:00-21...\n",
      "109    Wednesday 06:00:00-22:00; Thursday 12:00:00-14...\n",
      "110    Wednesday 12:00:00-21:00; Thursday 12:00:00-21...\n",
      "111    Thursday 12:00:00-22:00; Friday 12:00:00-22:00...\n",
      "Name: Opening Hours, Length: 91, dtype: object\n"
     ]
    }
   ],
   "source": [
    "def convert_to_24_hour(time_str):\n",
    "    match = re.match(r\"(\\d{1,2}):?(\\d{0,2})?\\s?(am|pm)?\", time_str, re.IGNORECASE)\n",
    "    if match:\n",
    "        hours, minutes, period = match.groups()\n",
    "        hours = int(hours)\n",
    "        minutes = minutes if minutes else \"00\"  # Default missing minutes to \":00\"\n",
    "\n",
    "        # Convert to 24-hour format\n",
    "        if period:\n",
    "            if period.lower() == \"pm\" and hours != 12:\n",
    "                hours += 12\n",
    "            elif period.lower() == \"am\" and hours == 12:\n",
    "                hours = 0\n",
    "        return f\"{hours:02d}:{minutes.zfill(2)}\"  # Ensures HH:MM format\n",
    "    return time_str  # Return as is if no match\n",
    "\n",
    "def clean_times(text):\n",
    "    def replace_time_range(match):\n",
    "        start_time_str = match.group(1)\n",
    "        end_time_str = match.group(2)\n",
    "        start_time = convert_to_24_hour(start_time_str)\n",
    "        end_time = convert_to_24_hour(end_time_str)\n",
    "        return f\"{start_time}-{end_time}\"\n",
    "        \n",
    "    # Converting AM/PM times within ranges\n",
    "    text = re.sub(r\"(\\d{1,2}:?\\d{0,2}\\s?(?:am|pm)?)\\s*[–-]\\s*(\\d{1,2}:?\\d{0,2}\\s?(?:am|pm)?)\", replace_time_range, text, flags=re.IGNORECASE)\n",
    "\n",
    "    # Ensuring missing minutes in 24-hour times are set to :00\n",
    "    text = re.sub(r\"(\\d{1,2})[–-](\\d{2}:\\d{2})\", r\"\\1:00-\\2\", text)\n",
    "    text = re.sub(r\"(\\d{1,2})[–-](\\d{1,2})\", r\"\\1:00-\\2:00\", text)\n",
    "\n",
    "    # Removing extra seconds\n",
    "    text = re.sub(r\"(\\d{2}:\\d{2}):\\d{2}\", r\"\\1\", text)\n",
    "\n",
    "    # Removing unnecessary brackets\n",
    "    text = text.replace(\"(\", \"\").replace(\")\", \"\")\n",
    "\n",
    "    # Replacing line breaks with commas for cleaner formatting\n",
    "    text = text.replace(\"\\n\", \"; \")\n",
    "\n",
    "    return text\n",
    "\n",
    "df[\"Opening Hours\"] = df[\"Opening Hours\"].apply(clean_times)\n",
    "print(df['Opening Hours'])"
   ]
  },
  {
   "cell_type": "code",
   "execution_count": 53,
   "id": "59100f21-3671-4625-b113-7de40df6699a",
   "metadata": {},
   "outputs": [
    {
     "name": "stdout",
     "output_type": "stream",
     "text": [
      "0      Monday 07:00-15:00; Tuesday 07:00-15:00; Wedne...\n",
      "1      Tuesday 07:00-15:00; Wednesday 07:00-15:00; Th...\n",
      "2      Monday 07:00-16:00; Tuesday 07:00-16:00; Wedne...\n",
      "3      Tuesday 07:00-17:00; Wednesday 07:00-17:00; Th...\n",
      "4      Tuesday 07:00-16:00; Wednesday 07:00-16:00; Th...\n",
      "                             ...                        \n",
      "107                           Monday-Sunday: 12:30-22:00\n",
      "108    Wednesday 08:00-21:00; Thursday 08:00-21:00; F...\n",
      "109    Wednesday 06:00-22:00; Thursday 12:00-14:00, 0...\n",
      "110    Wednesday 12:00-21:00; Thursday 12:00-21:00; F...\n",
      "111    Thursday 12:00-22:00; Friday 12:00-22:00; Satu...\n",
      "Name: Opening Hours, Length: 91, dtype: object\n"
     ]
    }
   ],
   "source": [
    "df['Opening Hours'] = df['Opening Hours'].str.replace(r'(\\d{2}:\\d{2}):00', r'\\1', regex=True)\n",
    "print(df['Opening Hours'])"
   ]
  },
  {
   "cell_type": "code",
   "execution_count": 54,
   "id": "1615cd69-6d5d-4824-8f50-49a51c59875c",
   "metadata": {},
   "outputs": [
    {
     "name": "stdout",
     "output_type": "stream",
     "text": [
      "0\n"
     ]
    }
   ],
   "source": [
    "print(df['Ambiance'].isnull().sum())"
   ]
  },
  {
   "cell_type": "code",
   "execution_count": 55,
   "id": "63bcce42-bd29-41bc-b8b1-12b9757dd584",
   "metadata": {},
   "outputs": [
    {
     "name": "stdout",
     "output_type": "stream",
     "text": [
      "Topic 1: italian, cozy, dishes, charming, relaxed, welcoming, setting, ambiance, vibe, warm\n",
      "Topic 2: dining, experience, chic, modern, sushi, dishes, dining experience, elegant, aesthetic, atmosphere\n",
      "Topic 3: experience, dining, exceptional, dining experience, steaks, memorable, sophisticated, culinary, fine, located\n",
      "Topic 4: fresh, contemporary, perfect, spot, vibrant, casual, lively, flavors, vibe, trendy\n",
      "Topic 5: coffee, café, perfect, spot, atmosphere, youre, whether youre, whether, warm, vibrant\n"
     ]
    }
   ],
   "source": [
    "# Function to preprocess text\n",
    "from sklearn.feature_extraction.text import CountVectorizer\n",
    "from sklearn.decomposition import LatentDirichletAllocation\n",
    "\n",
    "# Define stopwords\n",
    "custom_stopwords = [\n",
    "    'a', 'an', 'the', 'and', 'but', 'or', 'for', 'nor', 'on', 'at', 'to', 'by', \n",
    "    'from', 'this', 'that', 'in', 'of', 'is', 'are', 'was', 'were', 'be', 'been',\n",
    "    'being', 'have', 'has', 'had', 'do', 'does', 'did', 'can', 'could', 'will',\n",
    "    'would', 'should', 'shall', 'may', 'might', 'must', 'with', 'within', 'its',\n",
    "    'it', 'restaurant', 'offers', 'featuring', 'known', 'which', 'where',\n",
    "    'serving', 'meals', 'great', 'making', 'high quality', 'offering', \n",
    "    'their', 'set', 'menu', 'point', 'delicious', 'focus', 'lovers', 'cape', 'cape town', \n",
    "    'bree', 'yet', 'bree street', 'high', 'quality', 'street', 'town',\n",
    "]\n",
    "\n",
    "def preprocess_text(text):\n",
    "    text = text.lower()\n",
    "    text = re.sub(r'[^\\w\\s]', '', text)  # Remove punctuation\n",
    "    words = text.split()\n",
    "    words = [word for word in words if word not in custom_stopwords]\n",
    "    return ' '.join(words)\n",
    "\n",
    "# Vectorizing without TF-IDF (pure word frequency)\n",
    "count_vectorizer = CountVectorizer(\n",
    "    stop_words=custom_stopwords, \n",
    "    max_features=100,  \n",
    "    ngram_range=(1, 2)  \n",
    ")\n",
    "count_matrix = count_vectorizer.fit_transform(df['Ambiance'].apply(preprocess_text))\n",
    "\n",
    "# LDA Topic Modeling 5 topics\n",
    "lda = LatentDirichletAllocation(n_components=5, random_state=42)  \n",
    "lda.fit(count_matrix)\n",
    "\n",
    "# Extract Top Words for Each Topic\n",
    "feature_names = count_vectorizer.get_feature_names_out()\n",
    "topics = {}\n",
    "for topic_idx, topic in enumerate(lda.components_):\n",
    "    top_keywords = [feature_names[i] for i in topic.argsort()[:-10 - 1:-1]]\n",
    "    topics[f'Topic {topic_idx+1}'] = top_keywords\n",
    "\n",
    "for topic, keywords in topics.items():\n",
    "    print(f\"{topic}: {', '.join(keywords)}\")\n",
    "    "
   ]
  },
  {
   "cell_type": "code",
   "execution_count": 56,
   "id": "40875f6f-e964-445f-a5a7-cc56ac147610",
   "metadata": {},
   "outputs": [
    {
     "name": "stdout",
     "output_type": "stream",
     "text": [
      "                         Restaurant Name  \\\n",
      "0                       Ground Art Caffe   \n",
      "1                           Jason Bakery   \n",
      "2    Rosetta Roastery Cafe (Bree Street)   \n",
      "3                     Heaven Coffee Shop   \n",
      "4                             The Ladder   \n",
      "..                                   ...   \n",
      "107         Posticino Italian Restaurant   \n",
      "108                         The Foodbarn   \n",
      "109                            Aubergine   \n",
      "110            Chefs Warehouse At Maison   \n",
      "111                    La Petite Colombe   \n",
      "\n",
      "                                     Ambiance_Label  \n",
      "0                    Casual Café & Cozy Coffee Spot  \n",
      "1                    Casual Café & Cozy Coffee Spot  \n",
      "2                    Casual Café & Cozy Coffee Spot  \n",
      "3                    Casual Café & Cozy Coffee Spot  \n",
      "4                    Casual Café & Cozy Coffee Spot  \n",
      "..                                              ...  \n",
      "107             Cozy Italian Dining & Warm Ambiance  \n",
      "108             Cozy Italian Dining & Warm Ambiance  \n",
      "109                    Chic & Elegant Modern Dining  \n",
      "110  Sophisticated Fine Dining & Exceptional Steaks  \n",
      "111                    Chic & Elegant Modern Dining  \n",
      "\n",
      "[91 rows x 2 columns]\n"
     ]
    }
   ],
   "source": [
    "# Assign topic distributions\n",
    "topic_distributions = lda.transform(count_matrix)\n",
    "\n",
    "# Assign dominant topic to each restaurant\n",
    "df['Ambiance_Category'] = topic_distributions.argmax(axis=1)  # Assign dominant topic\n",
    "\n",
    "# Map topic numbers to theme labels\n",
    "ambiance_labels = {\n",
    "    0: \"Cozy Italian Dining & Warm Ambiance\",\n",
    "    1: \"Chic & Elegant Modern Dining\",\n",
    "    2: \"Sophisticated Fine Dining & Exceptional Steaks\",\n",
    "    3: \"Trendy & Vibrant Casual Dining\",\n",
    "    4: \"Casual Café & Cozy Coffee Spot\"\n",
    "}\n",
    "\n",
    "# Assign the corresponding theme label to each restaurant\n",
    "df['Ambiance_Label'] = df['Ambiance_Category'].map(ambiance_labels)\n",
    "\n",
    "# Display results with restaurant name and ambiance label\n",
    "print(df[['Restaurant Name', 'Ambiance_Label']])"
   ]
  },
  {
   "cell_type": "code",
   "execution_count": 57,
   "id": "4fae475a-20fe-4779-81ce-24a37f511061",
   "metadata": {},
   "outputs": [
    {
     "name": "stdout",
     "output_type": "stream",
     "text": [
      "0\n"
     ]
    }
   ],
   "source": [
    "print(df['Ambiance_Label'].isnull().sum())"
   ]
  },
  {
   "cell_type": "code",
   "execution_count": 58,
   "id": "dbaff1d8-00f4-4d25-9a90-b1b829988a9c",
   "metadata": {},
   "outputs": [
    {
     "name": "stdout",
     "output_type": "stream",
     "text": [
      "The ambiance label for 'Belly Of The Beast' is: Sophisticated Fine Dining & Exceptional Steaks\n"
     ]
    }
   ],
   "source": [
    "restaurant_name = 'Belly Of The Beast'\n",
    "\n",
    "# Finding the ambiance label for the specific restaurant\n",
    "ambiance_label = df[df['Restaurant Name'] == restaurant_name]['Ambiance_Label'].iloc[0]\n",
    "\n",
    "print(f\"The ambiance label for '{restaurant_name}' is: {ambiance_label}\")"
   ]
  },
  {
   "cell_type": "code",
   "execution_count": 59,
   "id": "e4ecb501-bde3-4106-871a-b2e2260b2bd6",
   "metadata": {},
   "outputs": [
    {
     "data": {
      "image/png": "[encoded data removed]",
      "text/plain": [
       "<Figure size 640x480 with 1 Axes>"
      ]
     },
     "metadata": {},
     "output_type": "display_data"
    }
   ],
   "source": [
    "# Plotting the distribution of ambiance labels\n",
    "ambiance_counts = df['Ambiance_Label'].value_counts()\n",
    "ambiance_counts.plot(kind='bar', color='skyblue')\n",
    "plt.title('Distribution of Ambiance Labels')\n",
    "plt.xlabel('Ambiance Label')\n",
    "plt.ylabel('Number of Restaurants')\n",
    "plt.xticks(rotation=45)\n",
    "plt.show()"
   ]
  },
  {
   "cell_type": "code",
   "execution_count": 60,
   "id": "22eb4632-3756-4651-b9d9-2a63c387675e",
   "metadata": {},
   "outputs": [
    {
     "name": "stderr",
     "output_type": "stream",
     "text": [
      "C:\\Users\\Game\\AppData\\Local\\Temp\\ipykernel_8276\\3330382330.py:17: FutureWarning: \n",
      "\n",
      "Passing `palette` without assigning `hue` is deprecated and will be removed in v0.14.0. Assign the `x` variable to `hue` and set `legend=False` for the same effect.\n",
      "\n",
      "  sns.barplot(x=top_rated_suburbs.index, y=top_rated_suburbs.values, palette=\"coolwarm\")\n"
     ]
    },
    {
     "data": {
      "image/png": "[encoded data removed]",
      "text/plain": [
       "<Figure size 1200x600 with 1 Axes>"
      ]
     },
     "metadata": {},
     "output_type": "display_data"
    }
   ],
   "source": [
    "#Visualizing suburbs with the most top rated suburbs\n",
    "suburb_columns = [col for col in df.columns if col.startswith('Suburb_')]\n",
    "\n",
    "suburb_ratings = {}\n",
    "for col in suburb_columns:\n",
    "    suburb_name = col.replace('Suburb_', '')\n",
    "    suburb_restaurants = df[df[col] == 1]\n",
    "    if len(suburb_restaurants) > 0:  \n",
    "        avg_rating = suburb_restaurants['Rating_Value'].mean()\n",
    "        suburb_ratings[suburb_name] = avg_rating\n",
    "\n",
    "suburb_rating_series = pd.Series(suburb_ratings)\n",
    "\n",
    "top_rated_suburbs = suburb_rating_series.sort_values(ascending=False)[:10]\n",
    "\n",
    "plt.figure(figsize=(12, 6))\n",
    "sns.barplot(x=top_rated_suburbs.index, y=top_rated_suburbs.values, palette=\"coolwarm\")\n",
    "plt.xticks(rotation=45, ha='right')\n",
    "plt.xlabel(\"Suburb\")\n",
    "plt.ylabel(\"Average Rating\")\n",
    "plt.title(\"Top 10 Highest Rated Suburbs\")\n",
    "plt.tight_layout()  \n",
    "plt.show()"
   ]
  },
  {
   "cell_type": "code",
   "execution_count": 61,
   "id": "f52b698b-cc1c-4e9b-9fc5-08237a446bae",
   "metadata": {},
   "outputs": [
    {
     "data": {
      "image/png": "[encoded data removed]",
      "text/plain": [
       "<Figure size 1000x600 with 1 Axes>"
      ]
     },
     "metadata": {},
     "output_type": "display_data"
    }
   ],
   "source": [
    "#Price vs. Rating\n",
    "plt.figure(figsize=(10, 6))\n",
    "sns.scatterplot(x=df['Avg_Max_Price'], y=df['Rating_Value'], alpha=0.6)\n",
    "plt.xlabel(\"Price Range\")\n",
    "plt.ylabel(\"Restaurant Rating\")\n",
    "plt.title(\"Max Meal Price Per Person vs. Rating\")\n",
    "plt.show()"
   ]
  },
  {
   "cell_type": "code",
   "execution_count": 62,
   "id": "8e7d4870-85dd-4749-9ec3-8fc606b6d691",
   "metadata": {},
   "outputs": [
    {
     "name": "stderr",
     "output_type": "stream",
     "text": [
      "C:\\Users\\Game\\AppData\\Local\\Temp\\ipykernel_8276\\3317392584.py:4: FutureWarning: \n",
      "\n",
      "Passing `palette` without assigning `hue` is deprecated and will be removed in v0.14.0. Assign the `x` variable to `hue` and set `legend=False` for the same effect.\n",
      "\n",
      "  sns.barplot(x=top_reviews['Restaurant Name'], y=top_reviews['Review_Count'], palette=\"flare\")\n"
     ]
    },
    {
     "data": {
      "image/png": "[encoded data removed]",
      "text/plain": [
       "<Figure size 1200x600 with 1 Axes>"
      ]
     },
     "metadata": {},
     "output_type": "display_data"
    }
   ],
   "source": [
    "# Top 10 most reviewed restaurants\n",
    "top_reviews = df[['Restaurant Name', 'Review_Count']].sort_values(by='Review_Count', ascending=False)[:10]\n",
    "plt.figure(figsize=(12, 6))\n",
    "sns.barplot(x=top_reviews['Restaurant Name'], y=top_reviews['Review_Count'], palette=\"flare\")\n",
    "plt.xticks(rotation=45)\n",
    "plt.xlabel(\"Restaurant\")\n",
    "plt.ylabel(\"Number of Reviews\")\n",
    "plt.title(\"Top 10 Most Reviewed Restaurants\")\n",
    "plt.show()"
   ]
  },
  {
   "cell_type": "code",
   "execution_count": 63,
   "id": "cb4eadf3-0e8b-4181-bc43-a19f0af7eac4",
   "metadata": {},
   "outputs": [
    {
     "name": "stderr",
     "output_type": "stream",
     "text": [
      "C:\\Users\\Game\\AppData\\Local\\Temp\\ipykernel_8276\\1233362678.py:14: FutureWarning: \n",
      "\n",
      "Passing `palette` without assigning `hue` is deprecated and will be removed in v0.14.0. Assign the `x` variable to `hue` and set `legend=False` for the same effect.\n",
      "\n",
      "  sns.barplot(x=top_suburbs.index, y=top_suburbs.values, palette=\"viridis\")\n"
     ]
    },
    {
     "data": {
      "image/png": "[encoded data removed]",
      "text/plain": [
       "<Figure size 1200x600 with 1 Axes>"
      ]
     },
     "metadata": {},
     "output_type": "display_data"
    }
   ],
   "source": [
    "#Visualizing top 10 suburbs with the most amount restaurants\n",
    "suburb_columns = [col for col in df.columns if col.startswith('Suburb_')]\n",
    "suburb_counts = {}\n",
    "for col in suburb_columns:\n",
    "    suburb_name = col.replace('Suburb_', '')\n",
    "    count = df[col].sum()\n",
    "    suburb_counts[suburb_name] = count\n",
    "\n",
    "suburb_series = pd.Series(suburb_counts)\n",
    "\n",
    "top_suburbs = suburb_series.sort_values(ascending=False)[:10]\n",
    "\n",
    "plt.figure(figsize=(12, 6))\n",
    "sns.barplot(x=top_suburbs.index, y=top_suburbs.values, palette=\"viridis\")\n",
    "plt.xticks(rotation=45, ha='right')\n",
    "plt.xlabel(\"Suburb\")\n",
    "plt.ylabel(\"Number of Restaurants\")\n",
    "plt.title(\"Top 10 Suburbs with Most Restaurants\")\n",
    "plt.tight_layout()  \n",
    "plt.show()"
   ]
  },
  {
   "cell_type": "code",
   "execution_count": 64,
   "id": "eb3460dc-8055-4ba3-ab6d-c89ffef8d1da",
   "metadata": {},
   "outputs": [
    {
     "name": "stderr",
     "output_type": "stream",
     "text": [
      "C:\\Users\\Game\\AppData\\Local\\Temp\\ipykernel_8276\\1876598865.py:4: FutureWarning: \n",
      "\n",
      "Passing `palette` without assigning `hue` is deprecated and will be removed in v0.14.0. Assign the `x` variable to `hue` and set `legend=False` for the same effect.\n",
      "\n",
      "  sns.barplot(x=top_reviews['Restaurant Name'], y=top_reviews['Rating_Value'], palette=\"flare\")\n"
     ]
    },
    {
     "data": {
      "image/png": "[encoded data removed]",
      "text/plain": [
       "<Figure size 1200x600 with 1 Axes>"
      ]
     },
     "metadata": {},
     "output_type": "display_data"
    }
   ],
   "source": [
    "# Top 10 restaurants\n",
    "top_reviews = df[['Restaurant Name', 'Rating_Value']].sort_values(by='Rating_Value', ascending=False)[:10]\n",
    "plt.figure(figsize=(12, 6))\n",
    "sns.barplot(x=top_reviews['Restaurant Name'], y=top_reviews['Rating_Value'], palette=\"flare\")\n",
    "plt.xticks(rotation=45)\n",
    "plt.xlabel(\"Restaurant\")\n",
    "plt.ylabel(\"Rating\")\n",
    "plt.title(\"Top 10 Restaurants\")\n",
    "plt.show()"
   ]
  },
  {
   "cell_type": "code",
   "execution_count": 69,
   "id": "d507c969-acf7-4d38-96d2-50b98ee18867",
   "metadata": {},
   "outputs": [
    {
     "name": "stdout",
     "output_type": "stream",
     "text": [
      "Excel file saved successfully!\n"
     ]
    }
   ],
   "source": [
    "df.to_excel(\"cptcleaned.xlsx\")\n",
    "print(\"Excel file saved successfully!\")"
   ]
  },
  {
   "cell_type": "code",
   "execution_count": 70,
   "id": "c073ce86-a70b-4f5f-bc5a-f5cfd5449582",
   "metadata": {},
   "outputs": [
    {
     "name": "stdout",
     "output_type": "stream",
     "text": [
      "CSV file saved successfully!\n"
     ]
    }
   ],
   "source": [
    "df.to_csv(\"cptcleaned.csv\")\n",
    "print(\"CSV file saved successfully!\")"
   ]
  },
  {
   "cell_type": "code",
   "execution_count": null,
   "id": "bf827964-ec99-46f0-bfaf-cd1eefd2cabb",
   "metadata": {},
   "outputs": [],
   "source": []
  }
 ],
 "metadata": {
  "kernelspec": {
   "display_name": "Python 3 (ipykernel)",
   "language": "python",
   "name": "python3"
  },
  "language_info": {
   "codemirror_mode": {
    "name": "ipython",
    "version": 3
   },
   "file_extension": ".py",
   "mimetype": "text/x-python",
   "name": "python",
   "nbconvert_exporter": "python",
   "pygments_lexer": "ipython3",
   "version": "3.13.1"
  }
 },
 "nbformat": 4,
 "nbformat_minor": 5
}
